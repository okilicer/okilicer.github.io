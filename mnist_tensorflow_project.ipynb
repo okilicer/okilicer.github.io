{
 "cells": [
  {
   "cell_type": "markdown",
   "metadata": {
    "id": "9HBRxab_rlDY"
   },
   "source": [
    "### Digit Recognizer:\n",
    "\n",
    "You can find the details on:  https://www.kaggle.com/competitions/digit-recognizer\n",
    "\n",
    "> Competition Description\n",
    "MNIST (\"Modified National Institute of Standards and Technology\") is the de facto “hello world” dataset of computer vision. Since its release in 1999, this classic dataset of handwritten images has served as the basis for benchmarking classification algorithms. As new machine learning techniques emerge, MNIST remains a reliable resource for researchers and learners alike.\n",
    "In this competition, your goal is to correctly identify digits from a dataset of tens of thousands of handwritten images. We’ve curated a set of tutorial-style kernels which cover everything from regression to neural networks. We encourage you to experiment with different algorithms to learn first-hand what works well and how techniques compare.\n",
    "\n",
    "For this problem, we will use deep learning techniques to delve into computer vision. I will give a detailed explanation of the code and in the end I will give you what I achieved in the public score.\n",
    "\n",
    "\n",
    "One important note: We will use GPU for the calculations since CPU will take a lot of time. In Kaggle or Google Colab, you can use GPU's. In Kaggle, you have 30 hours per week, on the other hand in Colab, the time is not certain. I suggest you to use Kaggle unless you are professional."
   ]
  },
  {
   "cell_type": "markdown",
   "metadata": {
    "id": "usAUSMdurlDc"
   },
   "source": [
    "We will import the necessary librariers. We will use tensorflow-keras for this problem. We will read the data from csv with pandas library. Seaborn-matplotlib will be used for drawing graphs.\n"
   ]
  },
  {
   "cell_type": "code",
   "execution_count": null,
   "metadata": {
    "_cell_guid": "b1076dfc-b9ad-4769-8c92-a6c4dae69d19",
    "_uuid": "8f2839f25d086af736a60e9eeb907d3b93b6e0e5",
    "execution": {
     "iopub.execute_input": "2025-01-10T20:39:06.916894Z",
     "iopub.status.busy": "2025-01-10T20:39:06.916573Z",
     "iopub.status.idle": "2025-01-10T20:39:20.434942Z",
     "shell.execute_reply": "2025-01-10T20:39:20.434092Z",
     "shell.execute_reply.started": "2025-01-10T20:39:06.916856Z"
    },
    "id": "PwBosctkrlDc"
   },
   "outputs": [],
   "source": [
    "import matplotlib.pyplot as plt\n",
    "import numpy as np\n",
    "\n",
    "import pandas as pd\n",
    "import seaborn as sns\n",
    "import tensorflow as tf\n",
    "import time\n",
    "import keras\n",
    "\n",
    "from scipy import ndimage\n",
    "from sklearn.model_selection import train_test_split\n",
    "from tensorflow.keras import layers, losses, models, optimizers, preprocessing, regularizers"
   ]
  },
  {
   "cell_type": "markdown",
   "metadata": {
    "id": "R-Ts4-t-rlDd"
   },
   "source": [
    "We read the data by using pandas. I used this code in Kaggle. So, you should be able ro repeat this process there. You can also work with this code locally by changing the folder's name below.\n"
   ]
  },
  {
   "cell_type": "code",
   "execution_count": null,
   "metadata": {
    "execution": {
     "iopub.execute_input": "2025-01-10T20:39:20.436363Z",
     "iopub.status.busy": "2025-01-10T20:39:20.435902Z",
     "iopub.status.idle": "2025-01-10T20:39:24.520813Z",
     "shell.execute_reply": "2025-01-10T20:39:24.519918Z",
     "shell.execute_reply.started": "2025-01-10T20:39:20.436335Z"
    },
    "id": "DvdXmM7frlDe",
    "outputId": "833edd46-b8e2-4747-e1bd-63403abbb020"
   },
   "outputs": [
    {
     "name": "stdout",
     "output_type": "stream",
     "text": [
      "(42000, 785)\n",
      "(28000, 784)\n"
     ]
    }
   ],
   "source": [
    "#\n",
    "train_df = pd.read_csv('/kaggle/input/digit-recognizer/train.csv')\n",
    "test_df = pd.read_csv('/kaggle/input/digit-recognizer/test.csv')\n",
    "\n",
    "\n",
    "#We can check the size of the data\n",
    "print(train_df.shape)\n",
    "print(test_df.shape)"
   ]
  },
  {
   "cell_type": "markdown",
   "metadata": {
    "execution": {
     "iopub.execute_input": "2024-11-20T19:17:47.307476Z",
     "iopub.status.busy": "2024-11-20T19:17:47.307013Z",
     "iopub.status.idle": "2024-11-20T19:17:47.323802Z",
     "shell.execute_reply": "2024-11-20T19:17:47.322689Z",
     "shell.execute_reply.started": "2024-11-20T19:17:47.307421Z"
    },
    "id": "MZijWCgirlDe"
   },
   "source": [
    "An example for the given data. As you see, the features are \"pixels\". You can use \"head\" to see the first five entries of the dataframe.\n"
   ]
  },
  {
   "cell_type": "code",
   "execution_count": null,
   "metadata": {
    "execution": {
     "iopub.execute_input": "2025-01-10T20:39:24.522854Z",
     "iopub.status.busy": "2025-01-10T20:39:24.522003Z",
     "iopub.status.idle": "2025-01-10T20:39:24.543745Z",
     "shell.execute_reply": "2025-01-10T20:39:24.542960Z",
     "shell.execute_reply.started": "2025-01-10T20:39:24.522815Z"
    },
    "id": "rJ4TXum5rlDf",
    "outputId": "bdf9ade9-bf32-4a3d-c05e-244b3a4b7118"
   },
   "outputs": [
    {
     "data": {
      "text/html": [
       "<div>\n",
       "<style scoped>\n",
       "    .dataframe tbody tr th:only-of-type {\n",
       "        vertical-align: middle;\n",
       "    }\n",
       "\n",
       "    .dataframe tbody tr th {\n",
       "        vertical-align: top;\n",
       "    }\n",
       "\n",
       "    .dataframe thead th {\n",
       "        text-align: right;\n",
       "    }\n",
       "</style>\n",
       "<table border=\"1\" class=\"dataframe\">\n",
       "  <thead>\n",
       "    <tr style=\"text-align: right;\">\n",
       "      <th></th>\n",
       "      <th>label</th>\n",
       "      <th>pixel0</th>\n",
       "      <th>pixel1</th>\n",
       "      <th>pixel2</th>\n",
       "      <th>pixel3</th>\n",
       "      <th>pixel4</th>\n",
       "      <th>pixel5</th>\n",
       "      <th>pixel6</th>\n",
       "      <th>pixel7</th>\n",
       "      <th>pixel8</th>\n",
       "      <th>...</th>\n",
       "      <th>pixel774</th>\n",
       "      <th>pixel775</th>\n",
       "      <th>pixel776</th>\n",
       "      <th>pixel777</th>\n",
       "      <th>pixel778</th>\n",
       "      <th>pixel779</th>\n",
       "      <th>pixel780</th>\n",
       "      <th>pixel781</th>\n",
       "      <th>pixel782</th>\n",
       "      <th>pixel783</th>\n",
       "    </tr>\n",
       "  </thead>\n",
       "  <tbody>\n",
       "    <tr>\n",
       "      <th>0</th>\n",
       "      <td>1</td>\n",
       "      <td>0</td>\n",
       "      <td>0</td>\n",
       "      <td>0</td>\n",
       "      <td>0</td>\n",
       "      <td>0</td>\n",
       "      <td>0</td>\n",
       "      <td>0</td>\n",
       "      <td>0</td>\n",
       "      <td>0</td>\n",
       "      <td>...</td>\n",
       "      <td>0</td>\n",
       "      <td>0</td>\n",
       "      <td>0</td>\n",
       "      <td>0</td>\n",
       "      <td>0</td>\n",
       "      <td>0</td>\n",
       "      <td>0</td>\n",
       "      <td>0</td>\n",
       "      <td>0</td>\n",
       "      <td>0</td>\n",
       "    </tr>\n",
       "    <tr>\n",
       "      <th>1</th>\n",
       "      <td>0</td>\n",
       "      <td>0</td>\n",
       "      <td>0</td>\n",
       "      <td>0</td>\n",
       "      <td>0</td>\n",
       "      <td>0</td>\n",
       "      <td>0</td>\n",
       "      <td>0</td>\n",
       "      <td>0</td>\n",
       "      <td>0</td>\n",
       "      <td>...</td>\n",
       "      <td>0</td>\n",
       "      <td>0</td>\n",
       "      <td>0</td>\n",
       "      <td>0</td>\n",
       "      <td>0</td>\n",
       "      <td>0</td>\n",
       "      <td>0</td>\n",
       "      <td>0</td>\n",
       "      <td>0</td>\n",
       "      <td>0</td>\n",
       "    </tr>\n",
       "    <tr>\n",
       "      <th>2</th>\n",
       "      <td>1</td>\n",
       "      <td>0</td>\n",
       "      <td>0</td>\n",
       "      <td>0</td>\n",
       "      <td>0</td>\n",
       "      <td>0</td>\n",
       "      <td>0</td>\n",
       "      <td>0</td>\n",
       "      <td>0</td>\n",
       "      <td>0</td>\n",
       "      <td>...</td>\n",
       "      <td>0</td>\n",
       "      <td>0</td>\n",
       "      <td>0</td>\n",
       "      <td>0</td>\n",
       "      <td>0</td>\n",
       "      <td>0</td>\n",
       "      <td>0</td>\n",
       "      <td>0</td>\n",
       "      <td>0</td>\n",
       "      <td>0</td>\n",
       "    </tr>\n",
       "    <tr>\n",
       "      <th>3</th>\n",
       "      <td>4</td>\n",
       "      <td>0</td>\n",
       "      <td>0</td>\n",
       "      <td>0</td>\n",
       "      <td>0</td>\n",
       "      <td>0</td>\n",
       "      <td>0</td>\n",
       "      <td>0</td>\n",
       "      <td>0</td>\n",
       "      <td>0</td>\n",
       "      <td>...</td>\n",
       "      <td>0</td>\n",
       "      <td>0</td>\n",
       "      <td>0</td>\n",
       "      <td>0</td>\n",
       "      <td>0</td>\n",
       "      <td>0</td>\n",
       "      <td>0</td>\n",
       "      <td>0</td>\n",
       "      <td>0</td>\n",
       "      <td>0</td>\n",
       "    </tr>\n",
       "    <tr>\n",
       "      <th>4</th>\n",
       "      <td>0</td>\n",
       "      <td>0</td>\n",
       "      <td>0</td>\n",
       "      <td>0</td>\n",
       "      <td>0</td>\n",
       "      <td>0</td>\n",
       "      <td>0</td>\n",
       "      <td>0</td>\n",
       "      <td>0</td>\n",
       "      <td>0</td>\n",
       "      <td>...</td>\n",
       "      <td>0</td>\n",
       "      <td>0</td>\n",
       "      <td>0</td>\n",
       "      <td>0</td>\n",
       "      <td>0</td>\n",
       "      <td>0</td>\n",
       "      <td>0</td>\n",
       "      <td>0</td>\n",
       "      <td>0</td>\n",
       "      <td>0</td>\n",
       "    </tr>\n",
       "  </tbody>\n",
       "</table>\n",
       "<p>5 rows × 785 columns</p>\n",
       "</div>"
      ],
      "text/plain": [
       "   label  pixel0  pixel1  pixel2  pixel3  pixel4  pixel5  pixel6  pixel7  \\\n",
       "0      1       0       0       0       0       0       0       0       0   \n",
       "1      0       0       0       0       0       0       0       0       0   \n",
       "2      1       0       0       0       0       0       0       0       0   \n",
       "3      4       0       0       0       0       0       0       0       0   \n",
       "4      0       0       0       0       0       0       0       0       0   \n",
       "\n",
       "   pixel8  ...  pixel774  pixel775  pixel776  pixel777  pixel778  pixel779  \\\n",
       "0       0  ...         0         0         0         0         0         0   \n",
       "1       0  ...         0         0         0         0         0         0   \n",
       "2       0  ...         0         0         0         0         0         0   \n",
       "3       0  ...         0         0         0         0         0         0   \n",
       "4       0  ...         0         0         0         0         0         0   \n",
       "\n",
       "   pixel780  pixel781  pixel782  pixel783  \n",
       "0         0         0         0         0  \n",
       "1         0         0         0         0  \n",
       "2         0         0         0         0  \n",
       "3         0         0         0         0  \n",
       "4         0         0         0         0  \n",
       "\n",
       "[5 rows x 785 columns]"
      ]
     },
     "execution_count": 3,
     "metadata": {},
     "output_type": "execute_result"
    }
   ],
   "source": [
    "train_df.head()"
   ]
  },
  {
   "cell_type": "markdown",
   "metadata": {
    "id": "YvQyuX_nrlDf"
   },
   "source": [
    "We scale the given numbers. Why? You can check the following stackoverflow webpage:\n",
    "\n",
    "\"https://stackoverflow.com/questions/20486700/why-do-we-always-divide-rgb-values-by-255#:~:text=It%20really%20comes%20down%20to,255%20since%200%20is%20included.\"\n",
    "\n",
    "The best explanation:\n",
    "\n",
    "> RGB (Red, Green, Blue) are 8 bit each.\n",
    "The range for each individual colour is 0-255 (as 2^8 = 256 possibilities).\n",
    "The combination range is 256*256*256. By dividing by 255, the 0-255 range can be described with a 0.0-1.0 range where 0.0 means 0 (0x00) and 1.0 means 255 (0xFF)."
   ]
  },
  {
   "cell_type": "code",
   "execution_count": null,
   "metadata": {
    "execution": {
     "iopub.execute_input": "2025-01-10T20:39:24.545000Z",
     "iopub.status.busy": "2025-01-10T20:39:24.544690Z",
     "iopub.status.idle": "2025-01-10T20:39:25.113265Z",
     "shell.execute_reply": "2025-01-10T20:39:25.112338Z",
     "shell.execute_reply.started": "2025-01-10T20:39:24.544974Z"
    },
    "id": "xPTVadnPrlDf",
    "outputId": "44fb94e9-a1e2-4687-94c1-05ab40c71f4b"
   },
   "outputs": [
    {
     "name": "stdout",
     "output_type": "stream",
     "text": [
      "(42000, 28, 28, 1)\n",
      "(42000,)\n",
      "(33600, 28, 28, 1)\n",
      "(33600,)\n",
      "(8400, 28, 28, 1)\n",
      "(8400,)\n",
      "(28000, 28, 28, 1)\n"
     ]
    }
   ],
   "source": [
    "X_train_full = train_df.to_numpy()[:, 1:].reshape(len(train_df), 28, 28, 1)\n",
    "X_train_full = X_train_full / 255.0\n",
    "print(X_train_full.shape)\n",
    "\n",
    "y_train_full = train_df.to_numpy()[:, 0]\n",
    "print(y_train_full.shape)\n",
    "\n",
    "# We split the data into tranining and validation set.\n",
    "# We can shuffle the data. The data may be given you in a biased form. Shuffling makes sense. Shuffle is default true.\n",
    "# There is also Stratify option. You can chek at https://scikit-learn.org/dev/modules/cross_validation.html#stratification\n",
    "\n",
    "X_train, X_val, y_train, y_val = train_test_split(X_train_full, y_train_full, test_size=0.2, random_state=1)\n",
    "print(X_train.shape)\n",
    "print(y_train.shape)\n",
    "print(X_val.shape)\n",
    "print(y_val.shape)\n",
    "\n",
    "\n",
    "# And test set of course\n",
    "X_test = test_df.to_numpy().reshape(len(test_df), 28, 28, 1)\n",
    "X_test = X_test / 255.0\n",
    "print(X_test.shape)"
   ]
  },
  {
   "cell_type": "markdown",
   "metadata": {
    "id": "XcwSKJnbrlDg"
   },
   "source": [
    "Using matplotlib-seaborn to check some of the given handwritten integers. You can play with the given numbers."
   ]
  },
  {
   "cell_type": "code",
   "execution_count": null,
   "metadata": {
    "execution": {
     "iopub.execute_input": "2025-01-10T21:08:08.133637Z",
     "iopub.status.busy": "2025-01-10T21:08:08.132929Z",
     "iopub.status.idle": "2025-01-10T21:08:10.574579Z",
     "shell.execute_reply": "2025-01-10T21:08:10.573878Z",
     "shell.execute_reply.started": "2025-01-10T21:08:08.133604Z"
    },
    "id": "mjpBFwJdrlDg",
    "outputId": "cda85e08-fc9d-4bfa-90de-99708aaea2c2"
   },
   "outputs": [
    {
     "data": {
      "image/png": "[encoded data removed]",
      "text/plain": [
       "<Figure size 1000x160 with 100 Axes>"
      ]
     },
     "metadata": {},
     "output_type": "display_data"
    }
   ],
   "source": [
    "\n",
    "fig = plt.figure(figsize=(10,1.6))\n",
    "for i in range(100):\n",
    "    ax = plt.subplot(4, 25, i + 1)\n",
    "    ax.axis('off')\n",
    "    plt.imshow(np.array(train_df.iloc[i,1:]).reshape((28,28)), cmap='gray_r')"
   ]
  },
  {
   "cell_type": "markdown",
   "metadata": {
    "id": "7f4e9L6rrlDg"
   },
   "source": [
    "The following code is for preparing the given data. Some options are:\n",
    "* rotation_range\n",
    "* zoom_range\n",
    "* width_shift_range\n",
    "* height_shift_range\n",
    "* shear_range\n",
    "* interpolation_order\n",
    "\n",
    "and other possiblities. Be careful with these options: If you set them large numbers, the method may fail learn from the data and you will have worse results. So, play with the numbers to compare the results with given small neural networks.\n",
    "You can find the options from keras' website."
   ]
  },
  {
   "cell_type": "code",
   "execution_count": null,
   "metadata": {
    "execution": {
     "iopub.execute_input": "2025-01-10T20:39:27.375359Z",
     "iopub.status.busy": "2025-01-10T20:39:27.375019Z",
     "iopub.status.idle": "2025-01-10T20:39:27.461277Z",
     "shell.execute_reply": "2025-01-10T20:39:27.460577Z",
     "shell.execute_reply.started": "2025-01-10T20:39:27.375324Z"
    },
    "id": "UpTZLISYrlDg"
   },
   "outputs": [],
   "source": [
    "datagen = preprocessing.image.ImageDataGenerator(\n",
    "    rotation_range=10,\n",
    "    zoom_range=0.1,\n",
    "    width_shift_range=0.05,\n",
    "    height_shift_range=0.05,\n",
    "    shear_range=5,\n",
    "    interpolation_order=3,\n",
    ")\n",
    "datagen.fit(X_train)"
   ]
  },
  {
   "cell_type": "markdown",
   "metadata": {
    "id": "uxfTTZ_nrlDg"
   },
   "source": [
    "We will focus on the learning rate. You can find on: https://www.tensorflow.org/api_docs/python/tf/keras/optimizers/schedules/ExponentialDecay\n",
    "> tf.keras.optimizers.schedules.ExponentialDecay(\n",
    "    initial_learning_rate,\n",
    "    decay_steps,\n",
    "    decay_rate,\n",
    "    staircase=False,\n",
    "    name='ExponentialDecay'\n",
    ")\n",
    "\n",
    "The learning rate is important for the neural networks. Brief descriptions about the hyperparameters can be found at:\n",
    "\n",
    "https://docs.aws.amazon.com/sagemaker/latest/dg/autopilot-llms-finetuning-hyperparameters.html"
   ]
  },
  {
   "cell_type": "code",
   "execution_count": null,
   "metadata": {
    "execution": {
     "iopub.execute_input": "2025-01-10T20:39:27.464191Z",
     "iopub.status.busy": "2025-01-10T20:39:27.463917Z",
     "iopub.status.idle": "2025-01-10T20:39:27.468388Z",
     "shell.execute_reply": "2025-01-10T20:39:27.467593Z",
     "shell.execute_reply.started": "2025-01-10T20:39:27.464166Z"
    },
    "id": "Y8Dw-a9zrlDg"
   },
   "outputs": [],
   "source": [
    "lr_schedule = optimizers.schedules.ExponentialDecay(\n",
    "    0.0001,\n",
    "    decay_steps=255,\n",
    "    decay_rate=0.91\n",
    ")"
   ]
  },
  {
   "cell_type": "markdown",
   "metadata": {
    "id": "Rbd8QuvTrlDh"
   },
   "source": [
    "We will construct the Deep Learning model. There are different layers. This method is called CNN: Convolutional Neural Network. Basic explanations of codes for CIFAR data can be found at:\n",
    "\n",
    "https://www.tensorflow.org/tutorials/images/cnn\n",
    "\n",
    "A basic explanation of CNN can be found at:\n",
    "\n",
    "https://towardsdatascience.com/convolutional-neural-networks-explained-9cc5188c4939\n",
    "\n",
    "\n",
    "In short:\n",
    "\n",
    "Conv2D:\n",
    "> This layer performs a dot product between two matrices, where one matrix is the set of learnable parameters otherwise known as a kernel, and the other matrix is the restricted portion of the receptive field. The kernel is spatially smaller than an image but is more in-depth. This means that, if the image is composed of three (RGB) channels, the kernel height and width will be spatially small, but the depth extends up to all three channels.\n",
    "\n",
    "Activation: We have functions like: Sigmoid, tanh, ReLU, etc. Each one of them can be used, however there may be vanishing gradient problem coming from sigmoid and tanh functions while using gradient descent algorithm in neural networks. (https://en.wikipedia.org/wiki/Vanishing_gradient_problem). In general people are using ReLU or Leaky ReLU.\n",
    "\n",
    "Dropout and Regularization: These are to prevent \"overfitting\". If you train your training data so \"good\", the method will not be able to predict the validation set's results. To prevent that, you can utilize these methods. You can find some information at https://www.geeksforgeeks.org/dropout-regularization-in-deep-learning/\n",
    "\n",
    "MaxPolling2D: https://towardsdatascience.com/convolutional-neural-networks-explained-9cc5188c4939\n",
    "> The pooling layer replaces the output of the network at certain locations by deriving a summary statistic of the nearby outputs. This helps in reducing the spatial size of the representation, which decreases the required amount of computation and weights.\n",
    "\n",
    "Flatten: https://www.educative.io/answers/what-is-a-neural-network-flatten-layer\n",
    "\n",
    "> The flatten layer is a component of the convolutional neural networks (CNN's). A complete convolutional neural network can be broken down into two parts:\n",
    "CNN: The convolutional neural network that comprises the convolutional layers.\n",
    "ANN: The artificial neural network that comprises dense layers.\n",
    "The flatten layer lies between the CNN and the ANN, and its job is to convert the output of the CNN into an input that the ANN can process\n"
   ]
  },
  {
   "cell_type": "code",
   "execution_count": null,
   "metadata": {
    "execution": {
     "iopub.execute_input": "2025-01-10T20:39:27.469771Z",
     "iopub.status.busy": "2025-01-10T20:39:27.469478Z",
     "iopub.status.idle": "2025-01-10T20:39:28.277046Z",
     "shell.execute_reply": "2025-01-10T20:39:28.276199Z",
     "shell.execute_reply.started": "2025-01-10T20:39:27.469746Z"
    },
    "id": "nps3DQSBrlDh",
    "outputId": "2b0aefe2-9436-47ef-f24d-4166115affcc"
   },
   "outputs": [
    {
     "data": {
      "text/html": [
       "<pre style=\"white-space:pre;overflow-x:auto;line-height:normal;font-family:Menlo,'DejaVu Sans Mono',consolas,'Courier New',monospace\"><span style=\"font-weight: bold\">Model: \"sequential\"</span>\n",
       "</pre>\n"
      ],
      "text/plain": [
       "\u001b[1mModel: \"sequential\"\u001b[0m\n"
      ]
     },
     "metadata": {},
     "output_type": "display_data"
    },
    {
     "data": {
      "text/html": [
       "<pre style=\"white-space:pre;overflow-x:auto;line-height:normal;font-family:Menlo,'DejaVu Sans Mono',consolas,'Courier New',monospace\">┏━━━━━━━━━━━━━━━━━━━━━━━━━━━━━━━━━┳━━━━━━━━━━━━━━━━━━━━━━━━┳━━━━━━━━━━━━━━━┓\n",
       "┃<span style=\"font-weight: bold\"> Layer (type)                    </span>┃<span style=\"font-weight: bold\"> Output Shape           </span>┃<span style=\"font-weight: bold\">       Param # </span>┃\n",
       "┡━━━━━━━━━━━━━━━━━━━━━━━━━━━━━━━━━╇━━━━━━━━━━━━━━━━━━━━━━━━╇━━━━━━━━━━━━━━━┩\n",
       "│ C1 (<span style=\"color: #0087ff; text-decoration-color: #0087ff\">Conv2D</span>)                     │ (<span style=\"color: #00d7ff; text-decoration-color: #00d7ff\">None</span>, <span style=\"color: #00af00; text-decoration-color: #00af00\">28</span>, <span style=\"color: #00af00; text-decoration-color: #00af00\">28</span>, <span style=\"color: #00af00; text-decoration-color: #00af00\">256</span>)    │         <span style=\"color: #00af00; text-decoration-color: #00af00\">2,304</span> │\n",
       "├─────────────────────────────────┼────────────────────────┼───────────────┤\n",
       "│ B1 (<span style=\"color: #0087ff; text-decoration-color: #0087ff\">BatchNormalization</span>)         │ (<span style=\"color: #00d7ff; text-decoration-color: #00d7ff\">None</span>, <span style=\"color: #00af00; text-decoration-color: #00af00\">28</span>, <span style=\"color: #00af00; text-decoration-color: #00af00\">28</span>, <span style=\"color: #00af00; text-decoration-color: #00af00\">256</span>)    │         <span style=\"color: #00af00; text-decoration-color: #00af00\">1,024</span> │\n",
       "├─────────────────────────────────┼────────────────────────┼───────────────┤\n",
       "│ A1 (<span style=\"color: #0087ff; text-decoration-color: #0087ff\">Activation</span>)                 │ (<span style=\"color: #00d7ff; text-decoration-color: #00d7ff\">None</span>, <span style=\"color: #00af00; text-decoration-color: #00af00\">28</span>, <span style=\"color: #00af00; text-decoration-color: #00af00\">28</span>, <span style=\"color: #00af00; text-decoration-color: #00af00\">256</span>)    │             <span style=\"color: #00af00; text-decoration-color: #00af00\">0</span> │\n",
       "├─────────────────────────────────┼────────────────────────┼───────────────┤\n",
       "│ D1 (<span style=\"color: #0087ff; text-decoration-color: #0087ff\">Dropout</span>)                    │ (<span style=\"color: #00d7ff; text-decoration-color: #00d7ff\">None</span>, <span style=\"color: #00af00; text-decoration-color: #00af00\">28</span>, <span style=\"color: #00af00; text-decoration-color: #00af00\">28</span>, <span style=\"color: #00af00; text-decoration-color: #00af00\">256</span>)    │             <span style=\"color: #00af00; text-decoration-color: #00af00\">0</span> │\n",
       "├─────────────────────────────────┼────────────────────────┼───────────────┤\n",
       "│ P1 (<span style=\"color: #0087ff; text-decoration-color: #0087ff\">MaxPooling2D</span>)               │ (<span style=\"color: #00d7ff; text-decoration-color: #00d7ff\">None</span>, <span style=\"color: #00af00; text-decoration-color: #00af00\">14</span>, <span style=\"color: #00af00; text-decoration-color: #00af00\">14</span>, <span style=\"color: #00af00; text-decoration-color: #00af00\">256</span>)    │             <span style=\"color: #00af00; text-decoration-color: #00af00\">0</span> │\n",
       "├─────────────────────────────────┼────────────────────────┼───────────────┤\n",
       "│ C2 (<span style=\"color: #0087ff; text-decoration-color: #0087ff\">Conv2D</span>)                     │ (<span style=\"color: #00d7ff; text-decoration-color: #00d7ff\">None</span>, <span style=\"color: #00af00; text-decoration-color: #00af00\">14</span>, <span style=\"color: #00af00; text-decoration-color: #00af00\">14</span>, <span style=\"color: #00af00; text-decoration-color: #00af00\">512</span>)    │     <span style=\"color: #00af00; text-decoration-color: #00af00\">1,179,648</span> │\n",
       "├─────────────────────────────────┼────────────────────────┼───────────────┤\n",
       "│ B2 (<span style=\"color: #0087ff; text-decoration-color: #0087ff\">BatchNormalization</span>)         │ (<span style=\"color: #00d7ff; text-decoration-color: #00d7ff\">None</span>, <span style=\"color: #00af00; text-decoration-color: #00af00\">14</span>, <span style=\"color: #00af00; text-decoration-color: #00af00\">14</span>, <span style=\"color: #00af00; text-decoration-color: #00af00\">512</span>)    │         <span style=\"color: #00af00; text-decoration-color: #00af00\">2,048</span> │\n",
       "├─────────────────────────────────┼────────────────────────┼───────────────┤\n",
       "│ A2 (<span style=\"color: #0087ff; text-decoration-color: #0087ff\">Activation</span>)                 │ (<span style=\"color: #00d7ff; text-decoration-color: #00d7ff\">None</span>, <span style=\"color: #00af00; text-decoration-color: #00af00\">14</span>, <span style=\"color: #00af00; text-decoration-color: #00af00\">14</span>, <span style=\"color: #00af00; text-decoration-color: #00af00\">512</span>)    │             <span style=\"color: #00af00; text-decoration-color: #00af00\">0</span> │\n",
       "├─────────────────────────────────┼────────────────────────┼───────────────┤\n",
       "│ D2 (<span style=\"color: #0087ff; text-decoration-color: #0087ff\">Dropout</span>)                    │ (<span style=\"color: #00d7ff; text-decoration-color: #00d7ff\">None</span>, <span style=\"color: #00af00; text-decoration-color: #00af00\">14</span>, <span style=\"color: #00af00; text-decoration-color: #00af00\">14</span>, <span style=\"color: #00af00; text-decoration-color: #00af00\">512</span>)    │             <span style=\"color: #00af00; text-decoration-color: #00af00\">0</span> │\n",
       "├─────────────────────────────────┼────────────────────────┼───────────────┤\n",
       "│ P2 (<span style=\"color: #0087ff; text-decoration-color: #0087ff\">MaxPooling2D</span>)               │ (<span style=\"color: #00d7ff; text-decoration-color: #00d7ff\">None</span>, <span style=\"color: #00af00; text-decoration-color: #00af00\">7</span>, <span style=\"color: #00af00; text-decoration-color: #00af00\">7</span>, <span style=\"color: #00af00; text-decoration-color: #00af00\">512</span>)      │             <span style=\"color: #00af00; text-decoration-color: #00af00\">0</span> │\n",
       "├─────────────────────────────────┼────────────────────────┼───────────────┤\n",
       "│ C3 (<span style=\"color: #0087ff; text-decoration-color: #0087ff\">Conv2D</span>)                     │ (<span style=\"color: #00d7ff; text-decoration-color: #00d7ff\">None</span>, <span style=\"color: #00af00; text-decoration-color: #00af00\">7</span>, <span style=\"color: #00af00; text-decoration-color: #00af00\">7</span>, <span style=\"color: #00af00; text-decoration-color: #00af00\">1024</span>)     │     <span style=\"color: #00af00; text-decoration-color: #00af00\">4,718,592</span> │\n",
       "├─────────────────────────────────┼────────────────────────┼───────────────┤\n",
       "│ B3 (<span style=\"color: #0087ff; text-decoration-color: #0087ff\">BatchNormalization</span>)         │ (<span style=\"color: #00d7ff; text-decoration-color: #00d7ff\">None</span>, <span style=\"color: #00af00; text-decoration-color: #00af00\">7</span>, <span style=\"color: #00af00; text-decoration-color: #00af00\">7</span>, <span style=\"color: #00af00; text-decoration-color: #00af00\">1024</span>)     │         <span style=\"color: #00af00; text-decoration-color: #00af00\">4,096</span> │\n",
       "├─────────────────────────────────┼────────────────────────┼───────────────┤\n",
       "│ A3 (<span style=\"color: #0087ff; text-decoration-color: #0087ff\">Activation</span>)                 │ (<span style=\"color: #00d7ff; text-decoration-color: #00d7ff\">None</span>, <span style=\"color: #00af00; text-decoration-color: #00af00\">7</span>, <span style=\"color: #00af00; text-decoration-color: #00af00\">7</span>, <span style=\"color: #00af00; text-decoration-color: #00af00\">1024</span>)     │             <span style=\"color: #00af00; text-decoration-color: #00af00\">0</span> │\n",
       "├─────────────────────────────────┼────────────────────────┼───────────────┤\n",
       "│ D3 (<span style=\"color: #0087ff; text-decoration-color: #0087ff\">Dropout</span>)                    │ (<span style=\"color: #00d7ff; text-decoration-color: #00d7ff\">None</span>, <span style=\"color: #00af00; text-decoration-color: #00af00\">7</span>, <span style=\"color: #00af00; text-decoration-color: #00af00\">7</span>, <span style=\"color: #00af00; text-decoration-color: #00af00\">1024</span>)     │             <span style=\"color: #00af00; text-decoration-color: #00af00\">0</span> │\n",
       "├─────────────────────────────────┼────────────────────────┼───────────────┤\n",
       "│ dense (<span style=\"color: #0087ff; text-decoration-color: #0087ff\">Dense</span>)                   │ (<span style=\"color: #00d7ff; text-decoration-color: #00d7ff\">None</span>, <span style=\"color: #00af00; text-decoration-color: #00af00\">7</span>, <span style=\"color: #00af00; text-decoration-color: #00af00\">7</span>, <span style=\"color: #00af00; text-decoration-color: #00af00\">128</span>)      │       <span style=\"color: #00af00; text-decoration-color: #00af00\">131,200</span> │\n",
       "├─────────────────────────────────┼────────────────────────┼───────────────┤\n",
       "│ flatten (<span style=\"color: #0087ff; text-decoration-color: #0087ff\">Flatten</span>)               │ (<span style=\"color: #00d7ff; text-decoration-color: #00d7ff\">None</span>, <span style=\"color: #00af00; text-decoration-color: #00af00\">6272</span>)           │             <span style=\"color: #00af00; text-decoration-color: #00af00\">0</span> │\n",
       "├─────────────────────────────────┼────────────────────────┼───────────────┤\n",
       "│ Out (<span style=\"color: #0087ff; text-decoration-color: #0087ff\">Dense</span>)                     │ (<span style=\"color: #00d7ff; text-decoration-color: #00d7ff\">None</span>, <span style=\"color: #00af00; text-decoration-color: #00af00\">10</span>)             │        <span style=\"color: #00af00; text-decoration-color: #00af00\">62,730</span> │\n",
       "└─────────────────────────────────┴────────────────────────┴───────────────┘\n",
       "</pre>\n"
      ],
      "text/plain": [
       "┏━━━━━━━━━━━━━━━━━━━━━━━━━━━━━━━━━┳━━━━━━━━━━━━━━━━━━━━━━━━┳━━━━━━━━━━━━━━━┓\n",
       "┃\u001b[1m \u001b[0m\u001b[1mLayer (type)                   \u001b[0m\u001b[1m \u001b[0m┃\u001b[1m \u001b[0m\u001b[1mOutput Shape          \u001b[0m\u001b[1m \u001b[0m┃\u001b[1m \u001b[0m\u001b[1m      Param #\u001b[0m\u001b[1m \u001b[0m┃\n",
       "┡━━━━━━━━━━━━━━━━━━━━━━━━━━━━━━━━━╇━━━━━━━━━━━━━━━━━━━━━━━━╇━━━━━━━━━━━━━━━┩\n",
       "│ C1 (\u001b[38;5;33mConv2D\u001b[0m)                     │ (\u001b[38;5;45mNone\u001b[0m, \u001b[38;5;34m28\u001b[0m, \u001b[38;5;34m28\u001b[0m, \u001b[38;5;34m256\u001b[0m)    │         \u001b[38;5;34m2,304\u001b[0m │\n",
       "├─────────────────────────────────┼────────────────────────┼───────────────┤\n",
       "│ B1 (\u001b[38;5;33mBatchNormalization\u001b[0m)         │ (\u001b[38;5;45mNone\u001b[0m, \u001b[38;5;34m28\u001b[0m, \u001b[38;5;34m28\u001b[0m, \u001b[38;5;34m256\u001b[0m)    │         \u001b[38;5;34m1,024\u001b[0m │\n",
       "├─────────────────────────────────┼────────────────────────┼───────────────┤\n",
       "│ A1 (\u001b[38;5;33mActivation\u001b[0m)                 │ (\u001b[38;5;45mNone\u001b[0m, \u001b[38;5;34m28\u001b[0m, \u001b[38;5;34m28\u001b[0m, \u001b[38;5;34m256\u001b[0m)    │             \u001b[38;5;34m0\u001b[0m │\n",
       "├─────────────────────────────────┼────────────────────────┼───────────────┤\n",
       "│ D1 (\u001b[38;5;33mDropout\u001b[0m)                    │ (\u001b[38;5;45mNone\u001b[0m, \u001b[38;5;34m28\u001b[0m, \u001b[38;5;34m28\u001b[0m, \u001b[38;5;34m256\u001b[0m)    │             \u001b[38;5;34m0\u001b[0m │\n",
       "├─────────────────────────────────┼────────────────────────┼───────────────┤\n",
       "│ P1 (\u001b[38;5;33mMaxPooling2D\u001b[0m)               │ (\u001b[38;5;45mNone\u001b[0m, \u001b[38;5;34m14\u001b[0m, \u001b[38;5;34m14\u001b[0m, \u001b[38;5;34m256\u001b[0m)    │             \u001b[38;5;34m0\u001b[0m │\n",
       "├─────────────────────────────────┼────────────────────────┼───────────────┤\n",
       "│ C2 (\u001b[38;5;33mConv2D\u001b[0m)                     │ (\u001b[38;5;45mNone\u001b[0m, \u001b[38;5;34m14\u001b[0m, \u001b[38;5;34m14\u001b[0m, \u001b[38;5;34m512\u001b[0m)    │     \u001b[38;5;34m1,179,648\u001b[0m │\n",
       "├─────────────────────────────────┼────────────────────────┼───────────────┤\n",
       "│ B2 (\u001b[38;5;33mBatchNormalization\u001b[0m)         │ (\u001b[38;5;45mNone\u001b[0m, \u001b[38;5;34m14\u001b[0m, \u001b[38;5;34m14\u001b[0m, \u001b[38;5;34m512\u001b[0m)    │         \u001b[38;5;34m2,048\u001b[0m │\n",
       "├─────────────────────────────────┼────────────────────────┼───────────────┤\n",
       "│ A2 (\u001b[38;5;33mActivation\u001b[0m)                 │ (\u001b[38;5;45mNone\u001b[0m, \u001b[38;5;34m14\u001b[0m, \u001b[38;5;34m14\u001b[0m, \u001b[38;5;34m512\u001b[0m)    │             \u001b[38;5;34m0\u001b[0m │\n",
       "├─────────────────────────────────┼────────────────────────┼───────────────┤\n",
       "│ D2 (\u001b[38;5;33mDropout\u001b[0m)                    │ (\u001b[38;5;45mNone\u001b[0m, \u001b[38;5;34m14\u001b[0m, \u001b[38;5;34m14\u001b[0m, \u001b[38;5;34m512\u001b[0m)    │             \u001b[38;5;34m0\u001b[0m │\n",
       "├─────────────────────────────────┼────────────────────────┼───────────────┤\n",
       "│ P2 (\u001b[38;5;33mMaxPooling2D\u001b[0m)               │ (\u001b[38;5;45mNone\u001b[0m, \u001b[38;5;34m7\u001b[0m, \u001b[38;5;34m7\u001b[0m, \u001b[38;5;34m512\u001b[0m)      │             \u001b[38;5;34m0\u001b[0m │\n",
       "├─────────────────────────────────┼────────────────────────┼───────────────┤\n",
       "│ C3 (\u001b[38;5;33mConv2D\u001b[0m)                     │ (\u001b[38;5;45mNone\u001b[0m, \u001b[38;5;34m7\u001b[0m, \u001b[38;5;34m7\u001b[0m, \u001b[38;5;34m1024\u001b[0m)     │     \u001b[38;5;34m4,718,592\u001b[0m │\n",
       "├─────────────────────────────────┼────────────────────────┼───────────────┤\n",
       "│ B3 (\u001b[38;5;33mBatchNormalization\u001b[0m)         │ (\u001b[38;5;45mNone\u001b[0m, \u001b[38;5;34m7\u001b[0m, \u001b[38;5;34m7\u001b[0m, \u001b[38;5;34m1024\u001b[0m)     │         \u001b[38;5;34m4,096\u001b[0m │\n",
       "├─────────────────────────────────┼────────────────────────┼───────────────┤\n",
       "│ A3 (\u001b[38;5;33mActivation\u001b[0m)                 │ (\u001b[38;5;45mNone\u001b[0m, \u001b[38;5;34m7\u001b[0m, \u001b[38;5;34m7\u001b[0m, \u001b[38;5;34m1024\u001b[0m)     │             \u001b[38;5;34m0\u001b[0m │\n",
       "├─────────────────────────────────┼────────────────────────┼───────────────┤\n",
       "│ D3 (\u001b[38;5;33mDropout\u001b[0m)                    │ (\u001b[38;5;45mNone\u001b[0m, \u001b[38;5;34m7\u001b[0m, \u001b[38;5;34m7\u001b[0m, \u001b[38;5;34m1024\u001b[0m)     │             \u001b[38;5;34m0\u001b[0m │\n",
       "├─────────────────────────────────┼────────────────────────┼───────────────┤\n",
       "│ dense (\u001b[38;5;33mDense\u001b[0m)                   │ (\u001b[38;5;45mNone\u001b[0m, \u001b[38;5;34m7\u001b[0m, \u001b[38;5;34m7\u001b[0m, \u001b[38;5;34m128\u001b[0m)      │       \u001b[38;5;34m131,200\u001b[0m │\n",
       "├─────────────────────────────────┼────────────────────────┼───────────────┤\n",
       "│ flatten (\u001b[38;5;33mFlatten\u001b[0m)               │ (\u001b[38;5;45mNone\u001b[0m, \u001b[38;5;34m6272\u001b[0m)           │             \u001b[38;5;34m0\u001b[0m │\n",
       "├─────────────────────────────────┼────────────────────────┼───────────────┤\n",
       "│ Out (\u001b[38;5;33mDense\u001b[0m)                     │ (\u001b[38;5;45mNone\u001b[0m, \u001b[38;5;34m10\u001b[0m)             │        \u001b[38;5;34m62,730\u001b[0m │\n",
       "└─────────────────────────────────┴────────────────────────┴───────────────┘\n"
      ]
     },
     "metadata": {},
     "output_type": "display_data"
    },
    {
     "data": {
      "text/html": [
       "<pre style=\"white-space:pre;overflow-x:auto;line-height:normal;font-family:Menlo,'DejaVu Sans Mono',consolas,'Courier New',monospace\"><span style=\"font-weight: bold\"> Total params: </span><span style=\"color: #00af00; text-decoration-color: #00af00\">6,101,642</span> (23.28 MB)\n",
       "</pre>\n"
      ],
      "text/plain": [
       "\u001b[1m Total params: \u001b[0m\u001b[38;5;34m6,101,642\u001b[0m (23.28 MB)\n"
      ]
     },
     "metadata": {},
     "output_type": "display_data"
    },
    {
     "data": {
      "text/html": [
       "<pre style=\"white-space:pre;overflow-x:auto;line-height:normal;font-family:Menlo,'DejaVu Sans Mono',consolas,'Courier New',monospace\"><span style=\"font-weight: bold\"> Trainable params: </span><span style=\"color: #00af00; text-decoration-color: #00af00\">6,098,058</span> (23.26 MB)\n",
       "</pre>\n"
      ],
      "text/plain": [
       "\u001b[1m Trainable params: \u001b[0m\u001b[38;5;34m6,098,058\u001b[0m (23.26 MB)\n"
      ]
     },
     "metadata": {},
     "output_type": "display_data"
    },
    {
     "data": {
      "text/html": [
       "<pre style=\"white-space:pre;overflow-x:auto;line-height:normal;font-family:Menlo,'DejaVu Sans Mono',consolas,'Courier New',monospace\"><span style=\"font-weight: bold\"> Non-trainable params: </span><span style=\"color: #00af00; text-decoration-color: #00af00\">3,584</span> (14.00 KB)\n",
       "</pre>\n"
      ],
      "text/plain": [
       "\u001b[1m Non-trainable params: \u001b[0m\u001b[38;5;34m3,584\u001b[0m (14.00 KB)\n"
      ]
     },
     "metadata": {},
     "output_type": "display_data"
    }
   ],
   "source": [
    "# For this question, we don't need to use dropout and/or regularization. The data is so nice that, we don't overfit easily.\n",
    "# In case we have overfitting,\n",
    "# we should use dropout or/and regularization\n",
    "\n",
    "DROPOUT = 0.0\n",
    "REG = 0.00\n",
    "model = models.Sequential([\n",
    "    layers.Input((28, 28, 1), name=\"In\"),\n",
    "\n",
    "    # 28 X 28\n",
    "    layers.Conv2D(256, (3, 3), padding='same', use_bias=False,\n",
    "                  kernel_regularizer=regularizers.L2(REG), name='C1'),\n",
    "    layers.BatchNormalization(name='B1'),\n",
    "    layers.Activation('relu', name='A1'),\n",
    "    layers.Dropout(DROPOUT, name='D1'),\n",
    "\n",
    "    layers.MaxPooling2D((2, 2), name='P1'),\n",
    "\n",
    "    # 14 X 14\n",
    "    layers.Conv2D(512, (3, 3), padding='same', use_bias=False,\n",
    "                  kernel_regularizer=regularizers.L2(REG), name='C2'),\n",
    "    layers.BatchNormalization(name='B2'),\n",
    "    layers.Activation('relu', name='A2'),\n",
    "    layers.Dropout(DROPOUT, name='D2'),\n",
    "\n",
    "    layers.MaxPooling2D((2, 2), name='P2'),\n",
    "\n",
    "    # 7 X 7\n",
    "    layers.Conv2D(1024, (3, 3), padding='same', use_bias=False,\n",
    "                  kernel_regularizer=regularizers.L2(REG), name='C3'),\n",
    "    layers.BatchNormalization(name='B3'),\n",
    "    layers.Activation('relu', name='A3'),\n",
    "    layers.Dropout(DROPOUT, name='D3'),\n",
    "\n",
    "    # This is where you'd normally see some Dense layers. You may not use them.\n",
    "    layers.Dense(128, activation='relu'),\n",
    "\n",
    "    layers.Flatten(),\n",
    "    layers.Dense(10, activation='linear', name='Out'),\n",
    "\n",
    "])\n",
    "model.summary()"
   ]
  },
  {
   "cell_type": "markdown",
   "metadata": {
    "id": "29FFjmLIrlDh"
   },
   "source": [
    "We will compile and fit the method. Information about coding part can be found at: https://www.tensorflow.org/guide/keras/training_with_built_in_methods\n",
    "\n",
    "We complie the model and then fit it with the given training data. We used sparse categorical crossentropy for validation loss, Adam optimizer for optimizer with the learning rate we gave before, and we chose the metric as \"accuracy\". We can choose any metric related to classification i.e., AUC, ROC, precision, etc.\n",
    "\n",
    "Early Stopping: For fitting we used early stopping to prevent *plateauing of the validation accuracy*. In this case, the model can't predict validation set better. Hence, if you try to continue to fit, you will overfit. You need to stop there, since your method will be getting worse each epoch. I chose 10 for *patience* for the fit. This means that, if the method can't improve validation accuracy for 10 epochs, it will stop.\n",
    "\n",
    "Epochs: That's the number of each step of learning.\n",
    "\n",
    "Batch Size: A very good and detailed explanation can be found at AWS website: (https://aws.amazon.com/blogs/machine-learning/the-importance-of-hyperparameter-tuning-for-scaling-deep-learning-training-to-multiple-gpus/#:~:text=One%20of%20the%20leading%20theories,mini%2Dbatch%20on%20model%20quality). Basically they say 32 or 64 is good enough for this hyperparameter. Choosing larger batch size won't improve the time much.\n"
   ]
  },
  {
   "cell_type": "code",
   "execution_count": null,
   "metadata": {
    "execution": {
     "iopub.execute_input": "2025-01-10T20:39:28.278513Z",
     "iopub.status.busy": "2025-01-10T20:39:28.278236Z",
     "iopub.status.idle": "2025-01-10T20:51:58.535103Z",
     "shell.execute_reply": "2025-01-10T20:51:58.534382Z",
     "shell.execute_reply.started": "2025-01-10T20:39:28.278487Z"
    },
    "id": "H-HmucHrrlDh",
    "outputId": "a4129454-c091-4ea1-a07a-ecfa063933a0"
   },
   "outputs": [
    {
     "name": "stdout",
     "output_type": "stream",
     "text": [
      "Epoch 1/1000\n"
     ]
    },
    {
     "name": "stderr",
     "output_type": "stream",
     "text": [
      "/opt/conda/lib/python3.10/site-packages/keras/src/trainers/data_adapters/py_dataset_adapter.py:121: UserWarning: Your `PyDataset` class should call `super().__init__(**kwargs)` in its constructor. `**kwargs` can include `workers`, `use_multiprocessing`, `max_queue_size`. Do not pass these arguments to `fit()`, as they will be ignored.\n",
      "  self._warn_if_super_not_called()\n",
      "WARNING: All log messages before absl::InitializeLog() is called are written to STDERR\n",
      "I0000 00:00:1736541570.715565     101 service.cc:145] XLA service 0x79c11c004790 initialized for platform CUDA (this does not guarantee that XLA will be used). Devices:\n",
      "I0000 00:00:1736541570.715630     101 service.cc:153]   StreamExecutor device (0): Tesla P100-PCIE-16GB, Compute Capability 6.0\n"
     ]
    },
    {
     "name": "stdout",
     "output_type": "stream",
     "text": [
      "\u001b[1m  5/525\u001b[0m \u001b[37m━━━━━━━━━━━━━━━━━━━━\u001b[0m \u001b[1m16s\u001b[0m 32ms/step - accuracy: 0.2156 - loss: 2.1878"
     ]
    },
    {
     "name": "stderr",
     "output_type": "stream",
     "text": [
      "I0000 00:00:1736541575.312471     101 device_compiler.h:188] Compiled cluster using XLA!  This line is logged at most once for the lifetime of the process.\n"
     ]
    },
    {
     "name": "stdout",
     "output_type": "stream",
     "text": [
      "\u001b[1m525/525\u001b[0m \u001b[32m━━━━━━━━━━━━━━━━━━━━\u001b[0m\u001b[37m\u001b[0m \u001b[1m26s\u001b[0m 36ms/step - accuracy: 0.8919 - loss: 0.3364 - val_accuracy: 0.8949 - val_loss: 0.4056\n",
      "Epoch 2/1000\n",
      "\u001b[1m525/525\u001b[0m \u001b[32m━━━━━━━━━━━━━━━━━━━━\u001b[0m\u001b[37m\u001b[0m \u001b[1m18s\u001b[0m 34ms/step - accuracy: 0.9777 - loss: 0.0679 - val_accuracy: 0.9852 - val_loss: 0.0505\n",
      "Epoch 3/1000\n",
      "\u001b[1m525/525\u001b[0m \u001b[32m━━━━━━━━━━━━━━━━━━━━\u001b[0m\u001b[37m\u001b[0m \u001b[1m18s\u001b[0m 33ms/step - accuracy: 0.9868 - loss: 0.0453 - val_accuracy: 0.9843 - val_loss: 0.0534\n",
      "Epoch 4/1000\n",
      "\u001b[1m525/525\u001b[0m \u001b[32m━━━━━━━━━━━━━━━━━━━━\u001b[0m\u001b[37m\u001b[0m \u001b[1m18s\u001b[0m 34ms/step - accuracy: 0.9885 - loss: 0.0368 - val_accuracy: 0.9870 - val_loss: 0.0468\n",
      "Epoch 5/1000\n",
      "\u001b[1m525/525\u001b[0m \u001b[32m━━━━━━━━━━━━━━━━━━━━\u001b[0m\u001b[37m\u001b[0m \u001b[1m18s\u001b[0m 33ms/step - accuracy: 0.9909 - loss: 0.0312 - val_accuracy: 0.9918 - val_loss: 0.0286\n",
      "Epoch 6/1000\n",
      "\u001b[1m525/525\u001b[0m \u001b[32m━━━━━━━━━━━━━━━━━━━━\u001b[0m\u001b[37m\u001b[0m \u001b[1m18s\u001b[0m 33ms/step - accuracy: 0.9925 - loss: 0.0249 - val_accuracy: 0.9902 - val_loss: 0.0308\n",
      "Epoch 7/1000\n",
      "\u001b[1m525/525\u001b[0m \u001b[32m━━━━━━━━━━━━━━━━━━━━\u001b[0m\u001b[37m\u001b[0m \u001b[1m18s\u001b[0m 34ms/step - accuracy: 0.9935 - loss: 0.0205 - val_accuracy: 0.9932 - val_loss: 0.0261\n",
      "Epoch 8/1000\n",
      "\u001b[1m525/525\u001b[0m \u001b[32m━━━━━━━━━━━━━━━━━━━━\u001b[0m\u001b[37m\u001b[0m \u001b[1m18s\u001b[0m 33ms/step - accuracy: 0.9933 - loss: 0.0207 - val_accuracy: 0.9924 - val_loss: 0.0249\n",
      "Epoch 9/1000\n",
      "\u001b[1m525/525\u001b[0m \u001b[32m━━━━━━━━━━━━━━━━━━━━\u001b[0m\u001b[37m\u001b[0m \u001b[1m18s\u001b[0m 33ms/step - accuracy: 0.9944 - loss: 0.0190 - val_accuracy: 0.9932 - val_loss: 0.0229\n",
      "Epoch 10/1000\n",
      "\u001b[1m525/525\u001b[0m \u001b[32m━━━━━━━━━━━━━━━━━━━━\u001b[0m\u001b[37m\u001b[0m \u001b[1m18s\u001b[0m 33ms/step - accuracy: 0.9956 - loss: 0.0151 - val_accuracy: 0.9932 - val_loss: 0.0233\n",
      "Epoch 11/1000\n",
      "\u001b[1m525/525\u001b[0m \u001b[32m━━━━━━━━━━━━━━━━━━━━\u001b[0m\u001b[37m\u001b[0m \u001b[1m18s\u001b[0m 34ms/step - accuracy: 0.9964 - loss: 0.0130 - val_accuracy: 0.9936 - val_loss: 0.0254\n",
      "Epoch 12/1000\n",
      "\u001b[1m525/525\u001b[0m \u001b[32m━━━━━━━━━━━━━━━━━━━━\u001b[0m\u001b[37m\u001b[0m \u001b[1m18s\u001b[0m 33ms/step - accuracy: 0.9966 - loss: 0.0117 - val_accuracy: 0.9939 - val_loss: 0.0237\n",
      "Epoch 13/1000\n",
      "\u001b[1m525/525\u001b[0m \u001b[32m━━━━━━━━━━━━━━━━━━━━\u001b[0m\u001b[37m\u001b[0m \u001b[1m18s\u001b[0m 34ms/step - accuracy: 0.9973 - loss: 0.0115 - val_accuracy: 0.9938 - val_loss: 0.0230\n",
      "Epoch 14/1000\n",
      "\u001b[1m525/525\u001b[0m \u001b[32m━━━━━━━━━━━━━━━━━━━━\u001b[0m\u001b[37m\u001b[0m \u001b[1m18s\u001b[0m 33ms/step - accuracy: 0.9974 - loss: 0.0097 - val_accuracy: 0.9939 - val_loss: 0.0225\n",
      "Epoch 15/1000\n",
      "\u001b[1m525/525\u001b[0m \u001b[32m━━━━━━━━━━━━━━━━━━━━\u001b[0m\u001b[37m\u001b[0m \u001b[1m18s\u001b[0m 33ms/step - accuracy: 0.9970 - loss: 0.0107 - val_accuracy: 0.9940 - val_loss: 0.0213\n",
      "Epoch 16/1000\n",
      "\u001b[1m525/525\u001b[0m \u001b[32m━━━━━━━━━━━━━━━━━━━━\u001b[0m\u001b[37m\u001b[0m \u001b[1m18s\u001b[0m 34ms/step - accuracy: 0.9971 - loss: 0.0102 - val_accuracy: 0.9937 - val_loss: 0.0220\n",
      "Epoch 17/1000\n",
      "\u001b[1m525/525\u001b[0m \u001b[32m━━━━━━━━━━━━━━━━━━━━\u001b[0m\u001b[37m\u001b[0m \u001b[1m18s\u001b[0m 34ms/step - accuracy: 0.9980 - loss: 0.0086 - val_accuracy: 0.9938 - val_loss: 0.0226\n",
      "Epoch 18/1000\n",
      "\u001b[1m525/525\u001b[0m \u001b[32m━━━━━━━━━━━━━━━━━━━━\u001b[0m\u001b[37m\u001b[0m \u001b[1m19s\u001b[0m 35ms/step - accuracy: 0.9978 - loss: 0.0090 - val_accuracy: 0.9945 - val_loss: 0.0225\n",
      "Epoch 19/1000\n",
      "\u001b[1m525/525\u001b[0m \u001b[32m━━━━━━━━━━━━━━━━━━━━\u001b[0m\u001b[37m\u001b[0m \u001b[1m18s\u001b[0m 34ms/step - accuracy: 0.9978 - loss: 0.0093 - val_accuracy: 0.9944 - val_loss: 0.0216\n",
      "Epoch 20/1000\n",
      "\u001b[1m525/525\u001b[0m \u001b[32m━━━━━━━━━━━━━━━━━━━━\u001b[0m\u001b[37m\u001b[0m \u001b[1m18s\u001b[0m 34ms/step - accuracy: 0.9979 - loss: 0.0082 - val_accuracy: 0.9945 - val_loss: 0.0210\n",
      "Epoch 21/1000\n",
      "\u001b[1m525/525\u001b[0m \u001b[32m━━━━━━━━━━━━━━━━━━━━\u001b[0m\u001b[37m\u001b[0m \u001b[1m18s\u001b[0m 35ms/step - accuracy: 0.9975 - loss: 0.0093 - val_accuracy: 0.9951 - val_loss: 0.0215\n",
      "Epoch 22/1000\n",
      "\u001b[1m525/525\u001b[0m \u001b[32m━━━━━━━━━━━━━━━━━━━━\u001b[0m\u001b[37m\u001b[0m \u001b[1m18s\u001b[0m 34ms/step - accuracy: 0.9981 - loss: 0.0077 - val_accuracy: 0.9945 - val_loss: 0.0214\n",
      "Epoch 23/1000\n",
      "\u001b[1m525/525\u001b[0m \u001b[32m━━━━━━━━━━━━━━━━━━━━\u001b[0m\u001b[37m\u001b[0m \u001b[1m19s\u001b[0m 35ms/step - accuracy: 0.9977 - loss: 0.0080 - val_accuracy: 0.9946 - val_loss: 0.0212\n",
      "Epoch 24/1000\n",
      "\u001b[1m525/525\u001b[0m \u001b[32m━━━━━━━━━━━━━━━━━━━━\u001b[0m\u001b[37m\u001b[0m \u001b[1m18s\u001b[0m 34ms/step - accuracy: 0.9979 - loss: 0.0077 - val_accuracy: 0.9945 - val_loss: 0.0214\n",
      "Epoch 25/1000\n",
      "\u001b[1m525/525\u001b[0m \u001b[32m━━━━━━━━━━━━━━━━━━━━\u001b[0m\u001b[37m\u001b[0m \u001b[1m18s\u001b[0m 34ms/step - accuracy: 0.9983 - loss: 0.0072 - val_accuracy: 0.9944 - val_loss: 0.0212\n",
      "Epoch 26/1000\n",
      "\u001b[1m525/525\u001b[0m \u001b[32m━━━━━━━━━━━━━━━━━━━━\u001b[0m\u001b[37m\u001b[0m \u001b[1m18s\u001b[0m 34ms/step - accuracy: 0.9985 - loss: 0.0067 - val_accuracy: 0.9942 - val_loss: 0.0212\n",
      "Epoch 27/1000\n",
      "\u001b[1m525/525\u001b[0m \u001b[32m━━━━━━━━━━━━━━━━━━━━\u001b[0m\u001b[37m\u001b[0m \u001b[1m18s\u001b[0m 35ms/step - accuracy: 0.9980 - loss: 0.0076 - val_accuracy: 0.9946 - val_loss: 0.0212\n",
      "Epoch 28/1000\n",
      "\u001b[1m525/525\u001b[0m \u001b[32m━━━━━━━━━━━━━━━━━━━━\u001b[0m\u001b[37m\u001b[0m \u001b[1m18s\u001b[0m 34ms/step - accuracy: 0.9984 - loss: 0.0068 - val_accuracy: 0.9945 - val_loss: 0.0210\n",
      "Epoch 29/1000\n",
      "\u001b[1m525/525\u001b[0m \u001b[32m━━━━━━━━━━━━━━━━━━━━\u001b[0m\u001b[37m\u001b[0m \u001b[1m18s\u001b[0m 34ms/step - accuracy: 0.9981 - loss: 0.0071 - val_accuracy: 0.9945 - val_loss: 0.0209\n",
      "Epoch 30/1000\n",
      "\u001b[1m525/525\u001b[0m \u001b[32m━━━━━━━━━━━━━━━━━━━━\u001b[0m\u001b[37m\u001b[0m \u001b[1m19s\u001b[0m 35ms/step - accuracy: 0.9981 - loss: 0.0074 - val_accuracy: 0.9945 - val_loss: 0.0209\n",
      "Epoch 31/1000\n",
      "\u001b[1m525/525\u001b[0m \u001b[32m━━━━━━━━━━━━━━━━━━━━\u001b[0m\u001b[37m\u001b[0m \u001b[1m18s\u001b[0m 35ms/step - accuracy: 0.9983 - loss: 0.0069 - val_accuracy: 0.9945 - val_loss: 0.0208\n",
      "Epoch 32/1000\n",
      "\u001b[1m525/525\u001b[0m \u001b[32m━━━━━━━━━━━━━━━━━━━━\u001b[0m\u001b[37m\u001b[0m \u001b[1m18s\u001b[0m 35ms/step - accuracy: 0.9984 - loss: 0.0077 - val_accuracy: 0.9945 - val_loss: 0.0210\n",
      "Epoch 33/1000\n",
      "\u001b[1m525/525\u001b[0m \u001b[32m━━━━━━━━━━━━━━━━━━━━\u001b[0m\u001b[37m\u001b[0m \u001b[1m18s\u001b[0m 34ms/step - accuracy: 0.9980 - loss: 0.0074 - val_accuracy: 0.9948 - val_loss: 0.0210\n",
      "Epoch 34/1000\n",
      "\u001b[1m525/525\u001b[0m \u001b[32m━━━━━━━━━━━━━━━━━━━━\u001b[0m\u001b[37m\u001b[0m \u001b[1m18s\u001b[0m 35ms/step - accuracy: 0.9977 - loss: 0.0085 - val_accuracy: 0.9949 - val_loss: 0.0209\n",
      "Epoch 35/1000\n",
      "\u001b[1m525/525\u001b[0m \u001b[32m━━━━━━━━━━━━━━━━━━━━\u001b[0m\u001b[37m\u001b[0m \u001b[1m18s\u001b[0m 35ms/step - accuracy: 0.9986 - loss: 0.0060 - val_accuracy: 0.9948 - val_loss: 0.0209\n",
      "Epoch 36/1000\n",
      "\u001b[1m525/525\u001b[0m \u001b[32m━━━━━━━━━━━━━━━━━━━━\u001b[0m\u001b[37m\u001b[0m \u001b[1m18s\u001b[0m 34ms/step - accuracy: 0.9979 - loss: 0.0077 - val_accuracy: 0.9946 - val_loss: 0.0209\n",
      "Epoch 37/1000\n",
      "\u001b[1m525/525\u001b[0m \u001b[32m━━━━━━━━━━━━━━━━━━━━\u001b[0m\u001b[37m\u001b[0m \u001b[1m18s\u001b[0m 34ms/step - accuracy: 0.9982 - loss: 0.0067 - val_accuracy: 0.9949 - val_loss: 0.0209\n",
      "Epoch 38/1000\n",
      "\u001b[1m525/525\u001b[0m \u001b[32m━━━━━━━━━━━━━━━━━━━━\u001b[0m\u001b[37m\u001b[0m \u001b[1m18s\u001b[0m 34ms/step - accuracy: 0.9987 - loss: 0.0063 - val_accuracy: 0.9949 - val_loss: 0.0209\n",
      "Epoch 39/1000\n",
      "\u001b[1m525/525\u001b[0m \u001b[32m━━━━━━━━━━━━━━━━━━━━\u001b[0m\u001b[37m\u001b[0m \u001b[1m18s\u001b[0m 35ms/step - accuracy: 0.9981 - loss: 0.0073 - val_accuracy: 0.9949 - val_loss: 0.0209\n",
      "Epoch 40/1000\n",
      "\u001b[1m525/525\u001b[0m \u001b[32m━━━━━━━━━━━━━━━━━━━━\u001b[0m\u001b[37m\u001b[0m \u001b[1m18s\u001b[0m 34ms/step - accuracy: 0.9984 - loss: 0.0069 - val_accuracy: 0.9949 - val_loss: 0.0209\n",
      "Epoch 41/1000\n",
      "\u001b[1m525/525\u001b[0m \u001b[32m━━━━━━━━━━━━━━━━━━━━\u001b[0m\u001b[37m\u001b[0m \u001b[1m18s\u001b[0m 34ms/step - accuracy: 0.9985 - loss: 0.0065 - val_accuracy: 0.9949 - val_loss: 0.0209\n"
     ]
    }
   ],
   "source": [
    "model.compile(\n",
    "    loss=losses.SparseCategoricalCrossentropy(from_logits=True),\n",
    "    optimizer=optimizers.Adam(lr_schedule),\n",
    "    metrics=['accuracy']\n",
    ")\n",
    "\n",
    "\n",
    "start = time.time()\n",
    "callback = keras.callbacks.EarlyStopping(monitor='val_loss', patience=10)\n",
    "history = model.fit(\n",
    "    datagen.flow(X_train, y_train, batch_size=64),\n",
    "    epochs=1000,\n",
    "    batch_size=64,\n",
    "    validation_data=(X_val, y_val),\n",
    "    callbacks = [callback]\n",
    ")\n"
   ]
  },
  {
   "cell_type": "markdown",
   "metadata": {
    "id": "cxKDi8AwrlDh"
   },
   "source": [
    "The following is for the results for the accuracy of training and the validation set. You can also find them in the previous step."
   ]
  },
  {
   "cell_type": "code",
   "execution_count": null,
   "metadata": {
    "execution": {
     "iopub.execute_input": "2025-01-10T20:51:58.536446Z",
     "iopub.status.busy": "2025-01-10T20:51:58.536171Z",
     "iopub.status.idle": "2025-01-10T20:52:04.411958Z",
     "shell.execute_reply": "2025-01-10T20:52:04.411014Z",
     "shell.execute_reply.started": "2025-01-10T20:51:58.536420Z"
    },
    "id": "nxCqMo-2rlDh",
    "outputId": "42025bab-29ba-4cd7-c090-553b71eb03ef"
   },
   "outputs": [
    {
     "name": "stdout",
     "output_type": "stream",
     "text": [
      "Training time: 750.2503490447998 \n",
      "\n",
      "\u001b[1m1050/1050\u001b[0m \u001b[32m━━━━━━━━━━━━━━━━━━━━\u001b[0m\u001b[37m\u001b[0m \u001b[1m4s\u001b[0m 3ms/step\n",
      "\u001b[1m263/263\u001b[0m \u001b[32m━━━━━━━━━━━━━━━━━━━━\u001b[0m\u001b[37m\u001b[0m \u001b[1m1s\u001b[0m 4ms/step\n",
      "\n",
      "Training accuracy is:  0.9995833333333334 and validation accuracy is:  0.9948809523809524\n"
     ]
    }
   ],
   "source": [
    "print('Training time:', time.time() - start, \"\\n\")\n",
    "\n",
    "y_hat_train = np.argmax(model.predict(X_train), axis=1)\n",
    "train_accuracy = np.sum(y_hat_train == y_train)/y_train.shape[0]\n",
    "\n",
    "y_hat_val = np.argmax(model.predict(X_val), axis=1)\n",
    "val_accuracy = np.sum(y_hat_val == y_val)/y_val.shape[0]\n",
    "\n",
    "print(\"\\nTraining accuracy is: \", train_accuracy, \"and validation accuracy is: \", val_accuracy)"
   ]
  },
  {
   "cell_type": "markdown",
   "metadata": {
    "id": "CFHbmrn3rlDh"
   },
   "source": [
    "We can check the following whether we overfitted, underfitted,or not. We can also check the \"plateaued\" validation loss or accuracy."
   ]
  },
  {
   "cell_type": "code",
   "execution_count": null,
   "metadata": {
    "execution": {
     "iopub.execute_input": "2025-01-10T20:52:04.413289Z",
     "iopub.status.busy": "2025-01-10T20:52:04.413005Z",
     "iopub.status.idle": "2025-01-10T20:52:04.627456Z",
     "shell.execute_reply": "2025-01-10T20:52:04.626582Z",
     "shell.execute_reply.started": "2025-01-10T20:52:04.413260Z"
    },
    "id": "IlhO838orlDi",
    "outputId": "bfbfee2c-4a72-4556-e267-42fc6db61d08"
   },
   "outputs": [
    {
     "data": {
      "image/png": "[encoded data removed]",
      "text/plain": [
       "<Figure size 640x480 with 1 Axes>"
      ]
     },
     "metadata": {},
     "output_type": "display_data"
    }
   ],
   "source": [
    "num_epochs = len(history.history['loss'])\n",
    "plt.plot(list(range(1,num_epochs)), history.history['accuracy'][1:], label=\"Training Accuracy\")\n",
    "plt.plot(list(range(1,num_epochs)), history.history['val_accuracy'][1:], label='Validation Accuracy')\n",
    "_ = plt.legend()"
   ]
  },
  {
   "cell_type": "markdown",
   "metadata": {
    "id": "nyZf3oDcrlDi"
   },
   "source": [
    "The following is to create the submission file for Kaggle competition."
   ]
  },
  {
   "cell_type": "code",
   "execution_count": null,
   "metadata": {
    "execution": {
     "iopub.execute_input": "2025-01-10T21:01:36.843791Z",
     "iopub.status.busy": "2025-01-10T21:01:36.843387Z",
     "iopub.status.idle": "2025-01-10T21:01:39.966687Z",
     "shell.execute_reply": "2025-01-10T21:01:39.965824Z",
     "shell.execute_reply.started": "2025-01-10T21:01:36.843756Z"
    },
    "id": "bUmEGO4hrlDi",
    "outputId": "d9da7ce9-d7cf-4847-f826-f5876c62c527"
   },
   "outputs": [
    {
     "name": "stdout",
     "output_type": "stream",
     "text": [
      "\u001b[1m875/875\u001b[0m \u001b[32m━━━━━━━━━━━━━━━━━━━━\u001b[0m\u001b[37m\u001b[0m \u001b[1m2s\u001b[0m 3ms/step\n"
     ]
    }
   ],
   "source": [
    "y_hat_test = np.argmax(model.predict(X_test), axis=1)\n",
    "with open('submission.csv', 'w') as f:\n",
    "    f.write('ImageId,Label\\n')\n",
    "    for i in range(len(y_hat_test)):\n",
    "        f.write(str(i + 1) + ',' + str(y_hat_test[i]) + '\\n')"
   ]
  },
  {
   "cell_type": "markdown",
   "metadata": {
    "id": "xYUKoIjArlDi"
   },
   "source": [
    "### Result\n",
    "\n",
    "I used different version of paramaters and hyperparameters here to show how the code works. By using my hyperparameters I obtained: The public result: 0.99571 and the place 80/1685. With this code, you will have 99.446 as a public score."
   ]
  },
  {
   "cell_type": "markdown",
   "metadata": {
    "id": "1J6jCbjorlDi"
   },
   "source": [
    "### References:\n",
    "* https://docs.aws.amazon.com/sagemaker/latest/dg/autopilot-llms-finetuning-hyperparameters.html\n",
    "* https://stackoverflow.com/questions/20486700/why-do-we-always-divide-rgb-values-by-255#:~:text=It%20really%20comes%20down%20to,255%20since%200%20is%20included\n",
    "* https://www.tensorflow.org/api_docs/python/tf/keras/optimizers/schedules/ExponentialDecay\n",
    "* https://www.tensorflow.org/tutorials/images/cnn\n",
    "* https://towardsdatascience.com/convolutional-neural-networks-explained-9cc5188c4939\n",
    "* https://www.educative.io/answers/what-is-a-neural-network-flatten-layer\n",
    "* https://www.tensorflow.org/guide/keras/training_with_built_in_methods\n",
    "* https://aws.amazon.com/blogs/machine-learning/the-importance-of-hyperparameter-tuning-for-scaling-deep-learning-training-to-multiple-gpus/#:~:text=One%20of%20the%20leading%20theories,mini%2Dbatch%20on%20model%20quality"
   ]
  },
  {
   "cell_type": "code",
   "execution_count": null,
   "metadata": {
    "id": "KbEQ7a0SrlDi"
   },
   "outputs": [],
   "source": []
  }
 ],
 "metadata": {
  "colab": {
   "provenance": []
  },
  "kaggle": {
   "accelerator": "gpu",
   "dataSources": [
    {
     "databundleVersionId": 861823,
     "sourceId": 3004,
     "sourceType": "competition"
    }
   ],
   "dockerImageVersionId": 30786,
   "isGpuEnabled": true,
   "isInternetEnabled": true,
   "language": "python",
   "sourceType": "notebook"
  },
  "kernelspec": {
   "display_name": "Python 3 (ipykernel)",
   "language": "python",
   "name": "python3"
  },
  "language_info": {
   "codemirror_mode": {
    "name": "ipython",
    "version": 3
   },
   "file_extension": ".py",
   "mimetype": "text/x-python",
   "name": "python",
   "nbconvert_exporter": "python",
   "pygments_lexer": "ipython3",
   "version": "3.11.5"
  }
 },
 "nbformat": 4,
 "nbformat_minor": 1
}
