{
 "cells": [
  {
   "cell_type": "code",
   "execution_count": 1,
   "metadata": {
    "_cell_guid": "b1076dfc-b9ad-4769-8c92-a6c4dae69d19",
    "_uuid": "8f2839f25d086af736a60e9eeb907d3b93b6e0e5",
    "execution": {
     "iopub.execute_input": "2025-06-04T00:58:17.566486Z",
     "iopub.status.busy": "2025-06-04T00:58:17.566154Z",
     "iopub.status.idle": "2025-06-04T00:58:29.576507Z",
     "shell.execute_reply": "2025-06-04T00:58:29.575509Z",
     "shell.execute_reply.started": "2025-06-04T00:58:17.566452Z"
    }
   },
   "outputs": [],
   "source": [
    "import numpy as np\n",
    "import pandas as pd\n",
    "from sklearn.preprocessing import MinMaxScaler\n",
    "from tensorflow.keras.models import Sequential\n",
    "from sklearn.model_selection import train_test_split\n",
    "import matplotlib.pyplot as plt\n",
    "from tensorflow.keras.layers import GRU, Bidirectional, Dense, Dropout\n",
    "from tensorflow.keras.callbacks import EarlyStopping\n",
    "from tensorflow.keras.regularizers import l2\n",
    "\n",
    "# Load your dataset\n",
    "train_df = pd.read_csv(\"/kaggle/input/bike-sharing-demand/train.csv\")\n",
    "test_df_raw = pd.read_csv(\"/kaggle/input/bike-sharing-demand/test.csv\")"
   ]
  },
  {
   "cell_type": "markdown",
   "metadata": {},
   "source": [
    "A Gated Recurrent Unit (GRU) is a type of Recurrent Neural Network (RNN) designed to capture dependencies in sequential data. It introduces gating mechanisms—specifically, the update and reset gates—that regulate the flow of information, allowing the model to retain or discard information as needed. This architecture addresses challenges like the vanishing gradient problem, enabling GRUs to model long-term dependencies more effectively than traditional RNNs. \n",
    "\n",
    "Key Characteristics of GRUs\n",
    "\n",
    "Update Gate: Determines how much of the past information needs to be passed along to the future.\n",
    "\n",
    "Reset Gate: Decides how much of the past information to forget.\n",
    "\n",
    "Simplified Architecture: Compared to Long Short-Term Memory (LSTM) networks, GRUs have a more streamlined structure, often leading to faster training times while maintaining performance.\n",
    "\n",
    "Source: https://aws.amazon.com/what-is/recurrent-neural-network/"
   ]
  },
  {
   "cell_type": "code",
   "execution_count": 2,
   "metadata": {
    "execution": {
     "iopub.execute_input": "2025-06-04T00:58:29.577870Z",
     "iopub.status.busy": "2025-06-04T00:58:29.577559Z",
     "iopub.status.idle": "2025-06-04T00:58:29.610707Z",
     "shell.execute_reply": "2025-06-04T00:58:29.609847Z",
     "shell.execute_reply.started": "2025-06-04T00:58:29.577848Z"
    }
   },
   "outputs": [
    {
     "data": {
      "text/html": [
       "<div>\n",
       "<style scoped>\n",
       "    .dataframe tbody tr th:only-of-type {\n",
       "        vertical-align: middle;\n",
       "    }\n",
       "\n",
       "    .dataframe tbody tr th {\n",
       "        vertical-align: top;\n",
       "    }\n",
       "\n",
       "    .dataframe thead th {\n",
       "        text-align: right;\n",
       "    }\n",
       "</style>\n",
       "<table border=\"1\" class=\"dataframe\">\n",
       "  <thead>\n",
       "    <tr style=\"text-align: right;\">\n",
       "      <th></th>\n",
       "      <th>datetime</th>\n",
       "      <th>season</th>\n",
       "      <th>holiday</th>\n",
       "      <th>workingday</th>\n",
       "      <th>weather</th>\n",
       "      <th>temp</th>\n",
       "      <th>atemp</th>\n",
       "      <th>humidity</th>\n",
       "      <th>windspeed</th>\n",
       "      <th>casual</th>\n",
       "      <th>registered</th>\n",
       "      <th>count</th>\n",
       "    </tr>\n",
       "  </thead>\n",
       "  <tbody>\n",
       "    <tr>\n",
       "      <th>0</th>\n",
       "      <td>2011-01-01 00:00:00</td>\n",
       "      <td>1</td>\n",
       "      <td>0</td>\n",
       "      <td>0</td>\n",
       "      <td>1</td>\n",
       "      <td>9.84</td>\n",
       "      <td>14.395</td>\n",
       "      <td>81</td>\n",
       "      <td>0.0</td>\n",
       "      <td>3</td>\n",
       "      <td>13</td>\n",
       "      <td>16</td>\n",
       "    </tr>\n",
       "    <tr>\n",
       "      <th>1</th>\n",
       "      <td>2011-01-01 01:00:00</td>\n",
       "      <td>1</td>\n",
       "      <td>0</td>\n",
       "      <td>0</td>\n",
       "      <td>1</td>\n",
       "      <td>9.02</td>\n",
       "      <td>13.635</td>\n",
       "      <td>80</td>\n",
       "      <td>0.0</td>\n",
       "      <td>8</td>\n",
       "      <td>32</td>\n",
       "      <td>40</td>\n",
       "    </tr>\n",
       "    <tr>\n",
       "      <th>2</th>\n",
       "      <td>2011-01-01 02:00:00</td>\n",
       "      <td>1</td>\n",
       "      <td>0</td>\n",
       "      <td>0</td>\n",
       "      <td>1</td>\n",
       "      <td>9.02</td>\n",
       "      <td>13.635</td>\n",
       "      <td>80</td>\n",
       "      <td>0.0</td>\n",
       "      <td>5</td>\n",
       "      <td>27</td>\n",
       "      <td>32</td>\n",
       "    </tr>\n",
       "    <tr>\n",
       "      <th>3</th>\n",
       "      <td>2011-01-01 03:00:00</td>\n",
       "      <td>1</td>\n",
       "      <td>0</td>\n",
       "      <td>0</td>\n",
       "      <td>1</td>\n",
       "      <td>9.84</td>\n",
       "      <td>14.395</td>\n",
       "      <td>75</td>\n",
       "      <td>0.0</td>\n",
       "      <td>3</td>\n",
       "      <td>10</td>\n",
       "      <td>13</td>\n",
       "    </tr>\n",
       "    <tr>\n",
       "      <th>4</th>\n",
       "      <td>2011-01-01 04:00:00</td>\n",
       "      <td>1</td>\n",
       "      <td>0</td>\n",
       "      <td>0</td>\n",
       "      <td>1</td>\n",
       "      <td>9.84</td>\n",
       "      <td>14.395</td>\n",
       "      <td>75</td>\n",
       "      <td>0.0</td>\n",
       "      <td>0</td>\n",
       "      <td>1</td>\n",
       "      <td>1</td>\n",
       "    </tr>\n",
       "  </tbody>\n",
       "</table>\n",
       "</div>"
      ],
      "text/plain": [
       "              datetime  season  holiday  workingday  weather  temp   atemp  \\\n",
       "0  2011-01-01 00:00:00       1        0           0        1  9.84  14.395   \n",
       "1  2011-01-01 01:00:00       1        0           0        1  9.02  13.635   \n",
       "2  2011-01-01 02:00:00       1        0           0        1  9.02  13.635   \n",
       "3  2011-01-01 03:00:00       1        0           0        1  9.84  14.395   \n",
       "4  2011-01-01 04:00:00       1        0           0        1  9.84  14.395   \n",
       "\n",
       "   humidity  windspeed  casual  registered  count  \n",
       "0        81        0.0       3          13     16  \n",
       "1        80        0.0       8          32     40  \n",
       "2        80        0.0       5          27     32  \n",
       "3        75        0.0       3          10     13  \n",
       "4        75        0.0       0           1      1  "
      ]
     },
     "execution_count": 2,
     "metadata": {},
     "output_type": "execute_result"
    }
   ],
   "source": [
    "train_df.head()"
   ]
  },
  {
   "cell_type": "code",
   "execution_count": 3,
   "metadata": {
    "execution": {
     "iopub.execute_input": "2025-06-04T00:58:29.612593Z",
     "iopub.status.busy": "2025-06-04T00:58:29.612290Z",
     "iopub.status.idle": "2025-06-04T00:58:29.618605Z",
     "shell.execute_reply": "2025-06-04T00:58:29.617851Z",
     "shell.execute_reply.started": "2025-06-04T00:58:29.612572Z"
    }
   },
   "outputs": [
    {
     "data": {
      "text/plain": [
       "datetime       object\n",
       "season          int64\n",
       "holiday         int64\n",
       "workingday      int64\n",
       "weather         int64\n",
       "temp          float64\n",
       "atemp         float64\n",
       "humidity        int64\n",
       "windspeed     float64\n",
       "casual          int64\n",
       "registered      int64\n",
       "count           int64\n",
       "dtype: object"
      ]
     },
     "execution_count": 3,
     "metadata": {},
     "output_type": "execute_result"
    }
   ],
   "source": [
    "train_df.dtypes"
   ]
  },
  {
   "cell_type": "code",
   "execution_count": 4,
   "metadata": {
    "execution": {
     "iopub.execute_input": "2025-06-04T00:58:29.620072Z",
     "iopub.status.busy": "2025-06-04T00:58:29.619854Z",
     "iopub.status.idle": "2025-06-04T00:58:29.651127Z",
     "shell.execute_reply": "2025-06-04T00:58:29.650335Z",
     "shell.execute_reply.started": "2025-06-04T00:58:29.620053Z"
    }
   },
   "outputs": [
    {
     "name": "stdout",
     "output_type": "stream",
     "text": [
      "<class 'pandas.core.frame.DataFrame'>\n",
      "RangeIndex: 10886 entries, 0 to 10885\n",
      "Data columns (total 12 columns):\n",
      " #   Column      Non-Null Count  Dtype  \n",
      "---  ------      --------------  -----  \n",
      " 0   datetime    10886 non-null  object \n",
      " 1   season      10886 non-null  int64  \n",
      " 2   holiday     10886 non-null  int64  \n",
      " 3   workingday  10886 non-null  int64  \n",
      " 4   weather     10886 non-null  int64  \n",
      " 5   temp        10886 non-null  float64\n",
      " 6   atemp       10886 non-null  float64\n",
      " 7   humidity    10886 non-null  int64  \n",
      " 8   windspeed   10886 non-null  float64\n",
      " 9   casual      10886 non-null  int64  \n",
      " 10  registered  10886 non-null  int64  \n",
      " 11  count       10886 non-null  int64  \n",
      "dtypes: float64(3), int64(8), object(1)\n",
      "memory usage: 1020.7+ KB\n"
     ]
    }
   ],
   "source": [
    "train_df.info()"
   ]
  },
  {
   "cell_type": "code",
   "execution_count": 5,
   "metadata": {
    "execution": {
     "iopub.execute_input": "2025-06-04T00:58:29.652288Z",
     "iopub.status.busy": "2025-06-04T00:58:29.651976Z",
     "iopub.status.idle": "2025-06-04T00:58:29.660844Z",
     "shell.execute_reply": "2025-06-04T00:58:29.660186Z",
     "shell.execute_reply.started": "2025-06-04T00:58:29.652245Z"
    }
   },
   "outputs": [
    {
     "name": "stdout",
     "output_type": "stream",
     "text": [
      "<class 'pandas.core.frame.DataFrame'>\n",
      "RangeIndex: 6493 entries, 0 to 6492\n",
      "Data columns (total 9 columns):\n",
      " #   Column      Non-Null Count  Dtype  \n",
      "---  ------      --------------  -----  \n",
      " 0   datetime    6493 non-null   object \n",
      " 1   season      6493 non-null   int64  \n",
      " 2   holiday     6493 non-null   int64  \n",
      " 3   workingday  6493 non-null   int64  \n",
      " 4   weather     6493 non-null   int64  \n",
      " 5   temp        6493 non-null   float64\n",
      " 6   atemp       6493 non-null   float64\n",
      " 7   humidity    6493 non-null   int64  \n",
      " 8   windspeed   6493 non-null   float64\n",
      "dtypes: float64(3), int64(5), object(1)\n",
      "memory usage: 456.7+ KB\n"
     ]
    }
   ],
   "source": [
    "test_df_raw.info()"
   ]
  },
  {
   "cell_type": "code",
   "execution_count": 6,
   "metadata": {
    "execution": {
     "iopub.execute_input": "2025-06-04T00:58:29.662044Z",
     "iopub.status.busy": "2025-06-04T00:58:29.661750Z",
     "iopub.status.idle": "2025-06-04T00:58:29.689658Z",
     "shell.execute_reply": "2025-06-04T00:58:29.689024Z",
     "shell.execute_reply.started": "2025-06-04T00:58:29.662016Z"
    }
   },
   "outputs": [],
   "source": [
    "\n",
    "# === 2. Feature Engineering: Extract datetime info ===\n",
    "def add_time_features(df):\n",
    "    df['datetime'] = pd.to_datetime(df['datetime'])  # Convert datetime string to timestamp\n",
    "    df['hour'] = df['datetime'].dt.hour              # Hour of the day (0–23)\n",
    "    df['day'] = df['datetime'].dt.dayofweek          # Day of the week (0=Monday)\n",
    "    df['month'] = df['datetime'].dt.month            # Month (1–12)\n",
    "    df['year'] = df['datetime'].dt.year              # Year (2011 or 2012)\n",
    "    return df\n",
    "\n",
    "# Apply time feature extraction\n",
    "train_df = add_time_features(train_df)\n",
    "test_df = add_time_features(test_df_raw)"
   ]
  },
  {
   "cell_type": "code",
   "execution_count": 7,
   "metadata": {
    "execution": {
     "iopub.execute_input": "2025-06-04T00:58:29.690498Z",
     "iopub.status.busy": "2025-06-04T00:58:29.690318Z",
     "iopub.status.idle": "2025-06-04T00:58:29.733970Z",
     "shell.execute_reply": "2025-06-04T00:58:29.733312Z",
     "shell.execute_reply.started": "2025-06-04T00:58:29.690481Z"
    }
   },
   "outputs": [
    {
     "data": {
      "text/html": [
       "<div>\n",
       "<style scoped>\n",
       "    .dataframe tbody tr th:only-of-type {\n",
       "        vertical-align: middle;\n",
       "    }\n",
       "\n",
       "    .dataframe tbody tr th {\n",
       "        vertical-align: top;\n",
       "    }\n",
       "\n",
       "    .dataframe thead th {\n",
       "        text-align: right;\n",
       "    }\n",
       "</style>\n",
       "<table border=\"1\" class=\"dataframe\">\n",
       "  <thead>\n",
       "    <tr style=\"text-align: right;\">\n",
       "      <th></th>\n",
       "      <th>datetime</th>\n",
       "      <th>season</th>\n",
       "      <th>holiday</th>\n",
       "      <th>workingday</th>\n",
       "      <th>weather</th>\n",
       "      <th>temp</th>\n",
       "      <th>atemp</th>\n",
       "      <th>humidity</th>\n",
       "      <th>windspeed</th>\n",
       "      <th>casual</th>\n",
       "      <th>registered</th>\n",
       "      <th>count</th>\n",
       "      <th>hour</th>\n",
       "      <th>day</th>\n",
       "      <th>month</th>\n",
       "      <th>year</th>\n",
       "    </tr>\n",
       "  </thead>\n",
       "  <tbody>\n",
       "    <tr>\n",
       "      <th>count</th>\n",
       "      <td>10886</td>\n",
       "      <td>10886.000000</td>\n",
       "      <td>10886.000000</td>\n",
       "      <td>10886.000000</td>\n",
       "      <td>10886.000000</td>\n",
       "      <td>10886.00000</td>\n",
       "      <td>10886.000000</td>\n",
       "      <td>10886.000000</td>\n",
       "      <td>10886.000000</td>\n",
       "      <td>10886.000000</td>\n",
       "      <td>10886.000000</td>\n",
       "      <td>10886.000000</td>\n",
       "      <td>10886.000000</td>\n",
       "      <td>10886.000000</td>\n",
       "      <td>10886.000000</td>\n",
       "      <td>10886.000000</td>\n",
       "    </tr>\n",
       "    <tr>\n",
       "      <th>mean</th>\n",
       "      <td>2011-12-27 05:56:22.399411968</td>\n",
       "      <td>2.506614</td>\n",
       "      <td>0.028569</td>\n",
       "      <td>0.680875</td>\n",
       "      <td>1.418427</td>\n",
       "      <td>20.23086</td>\n",
       "      <td>23.655084</td>\n",
       "      <td>61.886460</td>\n",
       "      <td>12.799395</td>\n",
       "      <td>36.021955</td>\n",
       "      <td>155.552177</td>\n",
       "      <td>191.574132</td>\n",
       "      <td>11.541613</td>\n",
       "      <td>3.013963</td>\n",
       "      <td>6.521495</td>\n",
       "      <td>2011.501929</td>\n",
       "    </tr>\n",
       "    <tr>\n",
       "      <th>min</th>\n",
       "      <td>2011-01-01 00:00:00</td>\n",
       "      <td>1.000000</td>\n",
       "      <td>0.000000</td>\n",
       "      <td>0.000000</td>\n",
       "      <td>1.000000</td>\n",
       "      <td>0.82000</td>\n",
       "      <td>0.760000</td>\n",
       "      <td>0.000000</td>\n",
       "      <td>0.000000</td>\n",
       "      <td>0.000000</td>\n",
       "      <td>0.000000</td>\n",
       "      <td>1.000000</td>\n",
       "      <td>0.000000</td>\n",
       "      <td>0.000000</td>\n",
       "      <td>1.000000</td>\n",
       "      <td>2011.000000</td>\n",
       "    </tr>\n",
       "    <tr>\n",
       "      <th>25%</th>\n",
       "      <td>2011-07-02 07:15:00</td>\n",
       "      <td>2.000000</td>\n",
       "      <td>0.000000</td>\n",
       "      <td>0.000000</td>\n",
       "      <td>1.000000</td>\n",
       "      <td>13.94000</td>\n",
       "      <td>16.665000</td>\n",
       "      <td>47.000000</td>\n",
       "      <td>7.001500</td>\n",
       "      <td>4.000000</td>\n",
       "      <td>36.000000</td>\n",
       "      <td>42.000000</td>\n",
       "      <td>6.000000</td>\n",
       "      <td>1.000000</td>\n",
       "      <td>4.000000</td>\n",
       "      <td>2011.000000</td>\n",
       "    </tr>\n",
       "    <tr>\n",
       "      <th>50%</th>\n",
       "      <td>2012-01-01 20:30:00</td>\n",
       "      <td>3.000000</td>\n",
       "      <td>0.000000</td>\n",
       "      <td>1.000000</td>\n",
       "      <td>1.000000</td>\n",
       "      <td>20.50000</td>\n",
       "      <td>24.240000</td>\n",
       "      <td>62.000000</td>\n",
       "      <td>12.998000</td>\n",
       "      <td>17.000000</td>\n",
       "      <td>118.000000</td>\n",
       "      <td>145.000000</td>\n",
       "      <td>12.000000</td>\n",
       "      <td>3.000000</td>\n",
       "      <td>7.000000</td>\n",
       "      <td>2012.000000</td>\n",
       "    </tr>\n",
       "    <tr>\n",
       "      <th>75%</th>\n",
       "      <td>2012-07-01 12:45:00</td>\n",
       "      <td>4.000000</td>\n",
       "      <td>0.000000</td>\n",
       "      <td>1.000000</td>\n",
       "      <td>2.000000</td>\n",
       "      <td>26.24000</td>\n",
       "      <td>31.060000</td>\n",
       "      <td>77.000000</td>\n",
       "      <td>16.997900</td>\n",
       "      <td>49.000000</td>\n",
       "      <td>222.000000</td>\n",
       "      <td>284.000000</td>\n",
       "      <td>18.000000</td>\n",
       "      <td>5.000000</td>\n",
       "      <td>10.000000</td>\n",
       "      <td>2012.000000</td>\n",
       "    </tr>\n",
       "    <tr>\n",
       "      <th>max</th>\n",
       "      <td>2012-12-19 23:00:00</td>\n",
       "      <td>4.000000</td>\n",
       "      <td>1.000000</td>\n",
       "      <td>1.000000</td>\n",
       "      <td>4.000000</td>\n",
       "      <td>41.00000</td>\n",
       "      <td>45.455000</td>\n",
       "      <td>100.000000</td>\n",
       "      <td>56.996900</td>\n",
       "      <td>367.000000</td>\n",
       "      <td>886.000000</td>\n",
       "      <td>977.000000</td>\n",
       "      <td>23.000000</td>\n",
       "      <td>6.000000</td>\n",
       "      <td>12.000000</td>\n",
       "      <td>2012.000000</td>\n",
       "    </tr>\n",
       "    <tr>\n",
       "      <th>std</th>\n",
       "      <td>NaN</td>\n",
       "      <td>1.116174</td>\n",
       "      <td>0.166599</td>\n",
       "      <td>0.466159</td>\n",
       "      <td>0.633839</td>\n",
       "      <td>7.79159</td>\n",
       "      <td>8.474601</td>\n",
       "      <td>19.245033</td>\n",
       "      <td>8.164537</td>\n",
       "      <td>49.960477</td>\n",
       "      <td>151.039033</td>\n",
       "      <td>181.144454</td>\n",
       "      <td>6.915838</td>\n",
       "      <td>2.004585</td>\n",
       "      <td>3.444373</td>\n",
       "      <td>0.500019</td>\n",
       "    </tr>\n",
       "  </tbody>\n",
       "</table>\n",
       "</div>"
      ],
      "text/plain": [
       "                            datetime        season       holiday  \\\n",
       "count                          10886  10886.000000  10886.000000   \n",
       "mean   2011-12-27 05:56:22.399411968      2.506614      0.028569   \n",
       "min              2011-01-01 00:00:00      1.000000      0.000000   \n",
       "25%              2011-07-02 07:15:00      2.000000      0.000000   \n",
       "50%              2012-01-01 20:30:00      3.000000      0.000000   \n",
       "75%              2012-07-01 12:45:00      4.000000      0.000000   \n",
       "max              2012-12-19 23:00:00      4.000000      1.000000   \n",
       "std                              NaN      1.116174      0.166599   \n",
       "\n",
       "         workingday       weather         temp         atemp      humidity  \\\n",
       "count  10886.000000  10886.000000  10886.00000  10886.000000  10886.000000   \n",
       "mean       0.680875      1.418427     20.23086     23.655084     61.886460   \n",
       "min        0.000000      1.000000      0.82000      0.760000      0.000000   \n",
       "25%        0.000000      1.000000     13.94000     16.665000     47.000000   \n",
       "50%        1.000000      1.000000     20.50000     24.240000     62.000000   \n",
       "75%        1.000000      2.000000     26.24000     31.060000     77.000000   \n",
       "max        1.000000      4.000000     41.00000     45.455000    100.000000   \n",
       "std        0.466159      0.633839      7.79159      8.474601     19.245033   \n",
       "\n",
       "          windspeed        casual    registered         count          hour  \\\n",
       "count  10886.000000  10886.000000  10886.000000  10886.000000  10886.000000   \n",
       "mean      12.799395     36.021955    155.552177    191.574132     11.541613   \n",
       "min        0.000000      0.000000      0.000000      1.000000      0.000000   \n",
       "25%        7.001500      4.000000     36.000000     42.000000      6.000000   \n",
       "50%       12.998000     17.000000    118.000000    145.000000     12.000000   \n",
       "75%       16.997900     49.000000    222.000000    284.000000     18.000000   \n",
       "max       56.996900    367.000000    886.000000    977.000000     23.000000   \n",
       "std        8.164537     49.960477    151.039033    181.144454      6.915838   \n",
       "\n",
       "                day         month          year  \n",
       "count  10886.000000  10886.000000  10886.000000  \n",
       "mean       3.013963      6.521495   2011.501929  \n",
       "min        0.000000      1.000000   2011.000000  \n",
       "25%        1.000000      4.000000   2011.000000  \n",
       "50%        3.000000      7.000000   2012.000000  \n",
       "75%        5.000000     10.000000   2012.000000  \n",
       "max        6.000000     12.000000   2012.000000  \n",
       "std        2.004585      3.444373      0.500019  "
      ]
     },
     "execution_count": 7,
     "metadata": {},
     "output_type": "execute_result"
    }
   ],
   "source": [
    "train_df.describe()"
   ]
  },
  {
   "cell_type": "code",
   "execution_count": 8,
   "metadata": {
    "execution": {
     "iopub.execute_input": "2025-06-04T00:58:29.736070Z",
     "iopub.status.busy": "2025-06-04T00:58:29.735870Z",
     "iopub.status.idle": "2025-06-04T00:58:29.740676Z",
     "shell.execute_reply": "2025-06-04T00:58:29.739853Z",
     "shell.execute_reply.started": "2025-06-04T00:58:29.736053Z"
    }
   },
   "outputs": [
    {
     "name": "stdout",
     "output_type": "stream",
     "text": [
      "datetime      datetime64[ns]\n",
      "season                 int64\n",
      "holiday                int64\n",
      "workingday             int64\n",
      "weather                int64\n",
      "temp                 float64\n",
      "atemp                float64\n",
      "humidity               int64\n",
      "windspeed            float64\n",
      "casual                 int64\n",
      "registered             int64\n",
      "count                  int64\n",
      "hour                   int32\n",
      "day                    int32\n",
      "month                  int32\n",
      "year                   int32\n",
      "dtype: object\n"
     ]
    }
   ],
   "source": [
    "print(train_df.dtypes)"
   ]
  },
  {
   "cell_type": "code",
   "execution_count": 9,
   "metadata": {
    "execution": {
     "iopub.execute_input": "2025-06-04T00:58:29.742574Z",
     "iopub.status.busy": "2025-06-04T00:58:29.742302Z",
     "iopub.status.idle": "2025-06-04T00:58:29.754328Z",
     "shell.execute_reply": "2025-06-04T00:58:29.753552Z",
     "shell.execute_reply.started": "2025-06-04T00:58:29.742552Z"
    }
   },
   "outputs": [
    {
     "name": "stdout",
     "output_type": "stream",
     "text": [
      "datetime      datetime64[ns]\n",
      "season                 int64\n",
      "holiday                int64\n",
      "workingday             int64\n",
      "weather                int64\n",
      "temp                 float64\n",
      "atemp                float64\n",
      "humidity               int64\n",
      "windspeed            float64\n",
      "hour                   int32\n",
      "day                    int32\n",
      "month                  int32\n",
      "year                   int32\n",
      "dtype: object\n"
     ]
    }
   ],
   "source": [
    "print(test_df.dtypes)"
   ]
  },
  {
   "cell_type": "code",
   "execution_count": 10,
   "metadata": {
    "execution": {
     "iopub.execute_input": "2025-06-04T00:58:29.755469Z",
     "iopub.status.busy": "2025-06-04T00:58:29.755199Z",
     "iopub.status.idle": "2025-06-04T00:58:29.785068Z",
     "shell.execute_reply": "2025-06-04T00:58:29.784242Z",
     "shell.execute_reply.started": "2025-06-04T00:58:29.755440Z"
    }
   },
   "outputs": [],
   "source": [
    "# === 3. Define input features and target ===\n",
    "features = ['hour', 'day', 'month', 'year', 'temp', 'humidity', 'windspeed']\n",
    "target = 'count'  # This is what we want to predict\n",
    "\n",
    "\n",
    "#===3.5 Dropping unncecessary features\n",
    "dropFeatures = [\"datetime\"]\n",
    "train_df = train_df.drop('casual', axis=1)\n",
    "train_df = train_df.drop('registered', axis=1)\n",
    "train_df = train_df.drop(dropFeatures,axis=1)\n",
    "test_df = test_df.drop(dropFeatures,axis=1)\n",
    "\n",
    "# === 4. Normalize features using MinMaxScaler ===\n",
    "scaler = MinMaxScaler()\n",
    "X_train_all = scaler.fit_transform(train_df[features])  # Fit only on train data\n",
    "X_test_all = scaler.transform(test_df[features])        # Transform test data using same scaler\n",
    "\n",
    "# Save target variable separately\n",
    "y_train_all = np.log1p(train_df['count'].values)\n",
    "#The following is for ensemble and tree methods\n"
   ]
  },
  {
   "cell_type": "code",
   "execution_count": 11,
   "metadata": {
    "execution": {
     "iopub.execute_input": "2025-06-04T00:58:29.786035Z",
     "iopub.status.busy": "2025-06-04T00:58:29.785830Z",
     "iopub.status.idle": "2025-06-04T00:58:29.806966Z",
     "shell.execute_reply": "2025-06-04T00:58:29.806408Z",
     "shell.execute_reply.started": "2025-06-04T00:58:29.786017Z"
    }
   },
   "outputs": [],
   "source": [
    "\n",
    "# === 6. Create time-series sequences for GRU ===\n",
    "def create_sequences(X, y=None, look_back=24):\n",
    "    Xs, ys = [], []\n",
    "    for i in range(len(X) - look_back):\n",
    "        Xs.append(X[i:i + look_back])\n",
    "        if y is not None:\n",
    "            ys.append(y[i + look_back])\n",
    "    return np.array(Xs), np.array(ys) if y is not None else np.array(Xs)\n",
    "\n",
    "look_back = 6  # Using past 6 time value\n",
    "\n",
    "X_train_seq, y_train_seq = create_sequences(X_train_all, y_train_all, look_back)\n",
    "\n",
    "#y_train_seq = np.log1p(y_train_seq)"
   ]
  },
  {
   "cell_type": "code",
   "execution_count": 12,
   "metadata": {
    "execution": {
     "iopub.execute_input": "2025-06-04T00:58:29.807982Z",
     "iopub.status.busy": "2025-06-04T00:58:29.807758Z",
     "iopub.status.idle": "2025-06-04T00:59:58.160378Z",
     "shell.execute_reply": "2025-06-04T00:59:58.159489Z",
     "shell.execute_reply.started": "2025-06-04T00:58:29.807953Z"
    }
   },
   "outputs": [
    {
     "name": "stderr",
     "output_type": "stream",
     "text": [
      "/usr/local/lib/python3.10/dist-packages/keras/src/layers/rnn/bidirectional.py:107: UserWarning: Do not pass an `input_shape`/`input_dim` argument to a layer. When using Sequential models, prefer using an `Input(shape)` object as the first layer in the model instead.\n",
      "  super().__init__(**kwargs)\n"
     ]
    },
    {
     "name": "stdout",
     "output_type": "stream",
     "text": [
      "Epoch 1/1000\n",
      "\u001b[1m272/272\u001b[0m \u001b[32m━━━━━━━━━━━━━━━━━━━━\u001b[0m\u001b[37m\u001b[0m \u001b[1m7s\u001b[0m 12ms/step - loss: 2.1393 - val_loss: 0.4221\n",
      "Epoch 2/1000\n",
      "\u001b[1m272/272\u001b[0m \u001b[32m━━━━━━━━━━━━━━━━━━━━\u001b[0m\u001b[37m\u001b[0m \u001b[1m2s\u001b[0m 8ms/step - loss: 0.3986 - val_loss: 0.3224\n",
      "Epoch 3/1000\n",
      "\u001b[1m272/272\u001b[0m \u001b[32m━━━━━━━━━━━━━━━━━━━━\u001b[0m\u001b[37m\u001b[0m \u001b[1m2s\u001b[0m 8ms/step - loss: 0.3169 - val_loss: 0.2133\n",
      "Epoch 4/1000\n",
      "\u001b[1m272/272\u001b[0m \u001b[32m━━━━━━━━━━━━━━━━━━━━\u001b[0m\u001b[37m\u001b[0m \u001b[1m2s\u001b[0m 8ms/step - loss: 0.2870 - val_loss: 0.2182\n",
      "Epoch 5/1000\n",
      "\u001b[1m272/272\u001b[0m \u001b[32m━━━━━━━━━━━━━━━━━━━━\u001b[0m\u001b[37m\u001b[0m \u001b[1m2s\u001b[0m 8ms/step - loss: 0.2639 - val_loss: 0.2270\n",
      "Epoch 6/1000\n",
      "\u001b[1m272/272\u001b[0m \u001b[32m━━━━━━━━━━━━━━━━━━━━\u001b[0m\u001b[37m\u001b[0m \u001b[1m2s\u001b[0m 8ms/step - loss: 0.2214 - val_loss: 0.1910\n",
      "Epoch 7/1000\n",
      "\u001b[1m272/272\u001b[0m \u001b[32m━━━━━━━━━━━━━━━━━━━━\u001b[0m\u001b[37m\u001b[0m \u001b[1m2s\u001b[0m 8ms/step - loss: 0.2117 - val_loss: 0.1415\n",
      "Epoch 8/1000\n",
      "\u001b[1m272/272\u001b[0m \u001b[32m━━━━━━━━━━━━━━━━━━━━\u001b[0m\u001b[37m\u001b[0m \u001b[1m2s\u001b[0m 8ms/step - loss: 0.2023 - val_loss: 0.1773\n",
      "Epoch 9/1000\n",
      "\u001b[1m272/272\u001b[0m \u001b[32m━━━━━━━━━━━━━━━━━━━━\u001b[0m\u001b[37m\u001b[0m \u001b[1m2s\u001b[0m 8ms/step - loss: 0.1893 - val_loss: 0.2063\n",
      "Epoch 10/1000\n",
      "\u001b[1m272/272\u001b[0m \u001b[32m━━━━━━━━━━━━━━━━━━━━\u001b[0m\u001b[37m\u001b[0m \u001b[1m2s\u001b[0m 8ms/step - loss: 0.1852 - val_loss: 0.1581\n",
      "Epoch 11/1000\n",
      "\u001b[1m272/272\u001b[0m \u001b[32m━━━━━━━━━━━━━━━━━━━━\u001b[0m\u001b[37m\u001b[0m \u001b[1m2s\u001b[0m 8ms/step - loss: 0.1641 - val_loss: 0.2467\n",
      "Epoch 12/1000\n",
      "\u001b[1m272/272\u001b[0m \u001b[32m━━━━━━━━━━━━━━━━━━━━\u001b[0m\u001b[37m\u001b[0m \u001b[1m2s\u001b[0m 8ms/step - loss: 0.1696 - val_loss: 0.2703\n",
      "Epoch 13/1000\n",
      "\u001b[1m272/272\u001b[0m \u001b[32m━━━━━━━━━━━━━━━━━━━━\u001b[0m\u001b[37m\u001b[0m \u001b[1m2s\u001b[0m 8ms/step - loss: 0.1669 - val_loss: 0.1968\n",
      "Epoch 14/1000\n",
      "\u001b[1m272/272\u001b[0m \u001b[32m━━━━━━━━━━━━━━━━━━━━\u001b[0m\u001b[37m\u001b[0m \u001b[1m2s\u001b[0m 8ms/step - loss: 0.1586 - val_loss: 0.1314\n",
      "Epoch 15/1000\n",
      "\u001b[1m272/272\u001b[0m \u001b[32m━━━━━━━━━━━━━━━━━━━━\u001b[0m\u001b[37m\u001b[0m \u001b[1m2s\u001b[0m 8ms/step - loss: 0.1494 - val_loss: 0.1238\n",
      "Epoch 16/1000\n",
      "\u001b[1m272/272\u001b[0m \u001b[32m━━━━━━━━━━━━━━━━━━━━\u001b[0m\u001b[37m\u001b[0m \u001b[1m2s\u001b[0m 8ms/step - loss: 0.1448 - val_loss: 0.1443\n",
      "Epoch 17/1000\n",
      "\u001b[1m272/272\u001b[0m \u001b[32m━━━━━━━━━━━━━━━━━━━━\u001b[0m\u001b[37m\u001b[0m \u001b[1m2s\u001b[0m 8ms/step - loss: 0.1433 - val_loss: 0.2815\n",
      "Epoch 18/1000\n",
      "\u001b[1m272/272\u001b[0m \u001b[32m━━━━━━━━━━━━━━━━━━━━\u001b[0m\u001b[37m\u001b[0m \u001b[1m2s\u001b[0m 8ms/step - loss: 0.1486 - val_loss: 0.1181\n",
      "Epoch 19/1000\n",
      "\u001b[1m272/272\u001b[0m \u001b[32m━━━━━━━━━━━━━━━━━━━━\u001b[0m\u001b[37m\u001b[0m \u001b[1m2s\u001b[0m 8ms/step - loss: 0.1351 - val_loss: 0.1258\n",
      "Epoch 20/1000\n",
      "\u001b[1m272/272\u001b[0m \u001b[32m━━━━━━━━━━━━━━━━━━━━\u001b[0m\u001b[37m\u001b[0m \u001b[1m2s\u001b[0m 8ms/step - loss: 0.1289 - val_loss: 0.1875\n",
      "Epoch 21/1000\n",
      "\u001b[1m272/272\u001b[0m \u001b[32m━━━━━━━━━━━━━━━━━━━━\u001b[0m\u001b[37m\u001b[0m \u001b[1m2s\u001b[0m 8ms/step - loss: 0.1409 - val_loss: 0.1726\n",
      "Epoch 22/1000\n",
      "\u001b[1m272/272\u001b[0m \u001b[32m━━━━━━━━━━━━━━━━━━━━\u001b[0m\u001b[37m\u001b[0m \u001b[1m2s\u001b[0m 8ms/step - loss: 0.1280 - val_loss: 0.1272\n",
      "Epoch 23/1000\n",
      "\u001b[1m272/272\u001b[0m \u001b[32m━━━━━━━━━━━━━━━━━━━━\u001b[0m\u001b[37m\u001b[0m \u001b[1m2s\u001b[0m 8ms/step - loss: 0.1249 - val_loss: 0.1261\n",
      "Epoch 24/1000\n",
      "\u001b[1m272/272\u001b[0m \u001b[32m━━━━━━━━━━━━━━━━━━━━\u001b[0m\u001b[37m\u001b[0m \u001b[1m2s\u001b[0m 8ms/step - loss: 0.1352 - val_loss: 0.1477\n",
      "Epoch 25/1000\n",
      "\u001b[1m272/272\u001b[0m \u001b[32m━━━━━━━━━━━━━━━━━━━━\u001b[0m\u001b[37m\u001b[0m \u001b[1m2s\u001b[0m 8ms/step - loss: 0.1274 - val_loss: 0.1189\n",
      "Epoch 26/1000\n",
      "\u001b[1m272/272\u001b[0m \u001b[32m━━━━━━━━━━━━━━━━━━━━\u001b[0m\u001b[37m\u001b[0m \u001b[1m2s\u001b[0m 8ms/step - loss: 0.1173 - val_loss: 0.1418\n",
      "Epoch 27/1000\n",
      "\u001b[1m272/272\u001b[0m \u001b[32m━━━━━━━━━━━━━━━━━━━━\u001b[0m\u001b[37m\u001b[0m \u001b[1m2s\u001b[0m 8ms/step - loss: 0.1155 - val_loss: 0.1304\n",
      "Epoch 28/1000\n",
      "\u001b[1m272/272\u001b[0m \u001b[32m━━━━━━━━━━━━━━━━━━━━\u001b[0m\u001b[37m\u001b[0m \u001b[1m2s\u001b[0m 8ms/step - loss: 0.1228 - val_loss: 0.1066\n",
      "Epoch 29/1000\n",
      "\u001b[1m272/272\u001b[0m \u001b[32m━━━━━━━━━━━━━━━━━━━━\u001b[0m\u001b[37m\u001b[0m \u001b[1m2s\u001b[0m 8ms/step - loss: 0.1151 - val_loss: 0.1285\n",
      "Epoch 30/1000\n",
      "\u001b[1m272/272\u001b[0m \u001b[32m━━━━━━━━━━━━━━━━━━━━\u001b[0m\u001b[37m\u001b[0m \u001b[1m2s\u001b[0m 8ms/step - loss: 0.1164 - val_loss: 0.1456\n",
      "Epoch 31/1000\n",
      "\u001b[1m272/272\u001b[0m \u001b[32m━━━━━━━━━━━━━━━━━━━━\u001b[0m\u001b[37m\u001b[0m \u001b[1m2s\u001b[0m 8ms/step - loss: 0.1089 - val_loss: 0.1137\n",
      "Epoch 32/1000\n",
      "\u001b[1m272/272\u001b[0m \u001b[32m━━━━━━━━━━━━━━━━━━━━\u001b[0m\u001b[37m\u001b[0m \u001b[1m2s\u001b[0m 8ms/step - loss: 0.1046 - val_loss: 0.1119\n",
      "Epoch 33/1000\n",
      "\u001b[1m272/272\u001b[0m \u001b[32m━━━━━━━━━━━━━━━━━━━━\u001b[0m\u001b[37m\u001b[0m \u001b[1m2s\u001b[0m 8ms/step - loss: 0.1023 - val_loss: 0.1518\n",
      "Epoch 34/1000\n",
      "\u001b[1m272/272\u001b[0m \u001b[32m━━━━━━━━━━━━━━━━━━━━\u001b[0m\u001b[37m\u001b[0m \u001b[1m2s\u001b[0m 8ms/step - loss: 0.1030 - val_loss: 0.1275\n",
      "Epoch 35/1000\n",
      "\u001b[1m272/272\u001b[0m \u001b[32m━━━━━━━━━━━━━━━━━━━━\u001b[0m\u001b[37m\u001b[0m \u001b[1m2s\u001b[0m 8ms/step - loss: 0.0944 - val_loss: 0.1161\n",
      "Epoch 36/1000\n",
      "\u001b[1m272/272\u001b[0m \u001b[32m━━━━━━━━━━━━━━━━━━━━\u001b[0m\u001b[37m\u001b[0m \u001b[1m2s\u001b[0m 8ms/step - loss: 0.0918 - val_loss: 0.1162\n",
      "Epoch 37/1000\n",
      "\u001b[1m272/272\u001b[0m \u001b[32m━━━━━━━━━━━━━━━━━━━━\u001b[0m\u001b[37m\u001b[0m \u001b[1m2s\u001b[0m 8ms/step - loss: 0.0925 - val_loss: 0.1246\n",
      "Epoch 38/1000\n",
      "\u001b[1m272/272\u001b[0m \u001b[32m━━━━━━━━━━━━━━━━━━━━\u001b[0m\u001b[37m\u001b[0m \u001b[1m2s\u001b[0m 8ms/step - loss: 0.0930 - val_loss: 0.1156\n"
     ]
    }
   ],
   "source": [
    "# === 7. Split training data into train/validation ===\n",
    "X_train_final, X_val, y_train_final, y_val = train_test_split(\n",
    "    X_train_seq, y_train_seq, test_size=0.2, random_state=42, shuffle=False\n",
    ")\n",
    "# Note: shuffle=False preserves time order, which is critical for time series\n",
    "\n",
    "# === 8. Build deeper GRU model ===\n",
    "model = Sequential()\n",
    "model.add(Bidirectional(GRU(512, return_sequences=True), input_shape=(look_back, len(features))))\n",
    "#model.add(Dropout(0.05))\n",
    "model.add(Bidirectional(GRU(128)))\n",
    "model.add(Dense(1))  # Output: predicted log(count)\n",
    "model.compile(optimizer='adam', loss='mean_squared_error')\n",
    "\n",
    "\n",
    "# === 10. Add early stopping ===\n",
    "early_stop = EarlyStopping(monitor='val_loss', patience=10, restore_best_weights=True)\n",
    "\n",
    "# === 11. Train model with validation data ===\n",
    "history = model.fit(\n",
    "    X_train_final, y_train_final,\n",
    "    validation_data=(X_val, y_val),\n",
    "    epochs=1000,\n",
    "    batch_size=32,\n",
    "    callbacks=[early_stop],\n",
    "    verbose=1\n",
    ")"
   ]
  },
  {
   "cell_type": "code",
   "execution_count": 13,
   "metadata": {
    "execution": {
     "iopub.execute_input": "2025-06-04T00:59:58.161844Z",
     "iopub.status.busy": "2025-06-04T00:59:58.161502Z",
     "iopub.status.idle": "2025-06-04T00:59:58.403977Z",
     "shell.execute_reply": "2025-06-04T00:59:58.403195Z",
     "shell.execute_reply.started": "2025-06-04T00:59:58.161808Z"
    }
   },
   "outputs": [
    {
     "data": {
      "image/png": "[encoded data removed]",
      "text/plain": [
       "<Figure size 640x480 with 1 Axes>"
      ]
     },
     "metadata": {},
     "output_type": "display_data"
    }
   ],
   "source": [
    "# === 12. Plot training & validation loss ===\n",
    "plt.plot(history.history['loss'], label='Train Loss')\n",
    "plt.plot(history.history['val_loss'], label='Val Loss')\n",
    "plt.title('Loss Over Epochs')\n",
    "plt.xlabel('Epoch')\n",
    "plt.ylabel('MSE (on log1p(count))')\n",
    "plt.legend()\n",
    "plt.show()"
   ]
  },
  {
   "cell_type": "code",
   "execution_count": 14,
   "metadata": {
    "execution": {
     "iopub.execute_input": "2025-06-04T00:59:58.405166Z",
     "iopub.status.busy": "2025-06-04T00:59:58.404840Z",
     "iopub.status.idle": "2025-06-04T00:59:58.409844Z",
     "shell.execute_reply": "2025-06-04T00:59:58.409016Z",
     "shell.execute_reply.started": "2025-06-04T00:59:58.405135Z"
    }
   },
   "outputs": [],
   "source": [
    "#We can also check root mean square error if need be\n",
    "\n",
    "def rmsle(y, y_,convertExp=True):\n",
    "    log1 = np.nan_to_num(np.array([np.log(v + 1) for v in y]))\n",
    "    log2 = np.nan_to_num(np.array([np.log(v + 1) for v in y_]))\n",
    "    calc = (log1 - log2) ** 2\n",
    "    return np.sqrt(np.mean(calc))"
   ]
  },
  {
   "cell_type": "code",
   "execution_count": 15,
   "metadata": {
    "execution": {
     "iopub.execute_input": "2025-06-04T00:59:58.410892Z",
     "iopub.status.busy": "2025-06-04T00:59:58.410618Z",
     "iopub.status.idle": "2025-06-04T00:59:59.474345Z",
     "shell.execute_reply": "2025-06-04T00:59:59.473632Z",
     "shell.execute_reply.started": "2025-06-04T00:59:58.410872Z"
    }
   },
   "outputs": [
    {
     "name": "stdout",
     "output_type": "stream",
     "text": [
      "\u001b[1m203/203\u001b[0m \u001b[32m━━━━━━━━━━━━━━━━━━━━\u001b[0m\u001b[37m\u001b[0m \u001b[1m1s\u001b[0m 3ms/step\n"
     ]
    }
   ],
   "source": [
    "# === 13. Prepare test sequences using last part of train ===\n",
    "X_test_seq = []\n",
    "seed_seq = X_train_all[-look_back:].tolist()\n",
    "for row in X_test_all:\n",
    "    seed_seq.append(row)\n",
    "    seq = seed_seq[-look_back:]\n",
    "    X_test_seq.append(seq)\n",
    "X_test_seq = np.array(X_test_seq)\n",
    "\n",
    "# === 14. Predict and inverse log1p ==\n",
    "test_preds = model.predict(X_test_seq).flatten()\n"
   ]
  },
  {
   "cell_type": "code",
   "execution_count": 16,
   "metadata": {
    "execution": {
     "iopub.execute_input": "2025-06-04T00:59:59.475421Z",
     "iopub.status.busy": "2025-06-04T00:59:59.475143Z",
     "iopub.status.idle": "2025-06-04T00:59:59.518329Z",
     "shell.execute_reply": "2025-06-04T00:59:59.517675Z",
     "shell.execute_reply.started": "2025-06-04T00:59:59.475388Z"
    }
   },
   "outputs": [],
   "source": [
    "\n",
    "# === 13. Submission file ===\n",
    "datetimecol = test_df_raw[\"datetime\"]\n",
    "submission = pd.DataFrame({\n",
    "        \"datetime\": datetimecol,\n",
    "        \"count\": [max(0, x) for x in np.exp(test_preds)]\n",
    "    })\n",
    "submission.to_csv('bike_predictions3.csv', index=False)"
   ]
  },
  {
   "cell_type": "code",
   "execution_count": 18,
   "metadata": {
    "execution": {
     "iopub.execute_input": "2025-06-04T01:02:20.598981Z",
     "iopub.status.busy": "2025-06-04T01:02:20.598649Z",
     "iopub.status.idle": "2025-06-04T01:02:46.799533Z",
     "shell.execute_reply": "2025-06-04T01:02:46.798781Z",
     "shell.execute_reply.started": "2025-06-04T01:02:20.598958Z"
    }
   },
   "outputs": [
    {
     "name": "stdout",
     "output_type": "stream",
     "text": [
      "RMSLE Value For Gradient Boost:  0.2256738796033782\n"
     ]
    }
   ],
   "source": [
    "from sklearn.ensemble import GradientBoostingRegressor\n",
    "gbm = GradientBoostingRegressor(n_estimators=4000)\n",
    "gbm.fit(X_train_all, y_train_all)\n",
    "preds = gbm.predict(X=X_train_all)\n",
    "print (\"RMSLE Value For Gradient Boost: \", rmsle(np.exp(y_train_all), np.exp(preds), False))"
   ]
  },
  {
   "cell_type": "code",
   "execution_count": 19,
   "metadata": {
    "execution": {
     "iopub.execute_input": "2025-06-04T01:02:46.800773Z",
     "iopub.status.busy": "2025-06-04T01:02:46.800482Z",
     "iopub.status.idle": "2025-06-04T01:02:46.991341Z",
     "shell.execute_reply": "2025-06-04T01:02:46.990526Z",
     "shell.execute_reply.started": "2025-06-04T01:02:46.800751Z"
    }
   },
   "outputs": [],
   "source": [
    "test_preds2 = gbm.predict(X=X_test_all)"
   ]
  },
  {
   "cell_type": "code",
   "execution_count": 20,
   "metadata": {
    "execution": {
     "iopub.execute_input": "2025-06-04T01:02:46.992935Z",
     "iopub.status.busy": "2025-06-04T01:02:46.992701Z",
     "iopub.status.idle": "2025-06-04T01:02:47.038167Z",
     "shell.execute_reply": "2025-06-04T01:02:47.037545Z",
     "shell.execute_reply.started": "2025-06-04T01:02:46.992916Z"
    }
   },
   "outputs": [],
   "source": [
    "submission2 = pd.read_csv('/kaggle/input/bike-sharing-demand/sampleSubmission.csv')\n",
    "datetimecol = test_df_raw[\"datetime\"]\n",
    "submission2 = pd.DataFrame({\n",
    "        \"datetime\": datetimecol,\n",
    "        \"count\": [max(0, x) for x in np.exp(test_preds2)]\n",
    "    })\n",
    "submission2.to_csv('gbr_estt.csv', index=False)"
   ]
  },
  {
   "cell_type": "code",
   "execution_count": 21,
   "metadata": {
    "execution": {
     "iopub.execute_input": "2025-06-04T01:02:47.039352Z",
     "iopub.status.busy": "2025-06-04T01:02:47.039048Z",
     "iopub.status.idle": "2025-06-04T01:02:49.838427Z",
     "shell.execute_reply": "2025-06-04T01:02:49.837696Z",
     "shell.execute_reply.started": "2025-06-04T01:02:47.039330Z"
    }
   },
   "outputs": [
    {
     "name": "stdout",
     "output_type": "stream",
     "text": [
      "RMSLE Value For Random Forest:  0.11502367206001117\n"
     ]
    }
   ],
   "source": [
    "from sklearn.ensemble import RandomForestRegressor\n",
    "rfModel = RandomForestRegressor(n_estimators=100)\n",
    "rfModel.fit(X_train_all, y_train_all)\n",
    "preds = rfModel.predict(X=X_train_all)\n",
    "print (\"RMSLE Value For Random Forest: \",rmsle(np.exp(y_train_all), np.exp(preds), False))"
   ]
  },
  {
   "cell_type": "code",
   "execution_count": 22,
   "metadata": {
    "execution": {
     "iopub.execute_input": "2025-06-04T01:02:49.839421Z",
     "iopub.status.busy": "2025-06-04T01:02:49.839214Z",
     "iopub.status.idle": "2025-06-04T01:02:49.939235Z",
     "shell.execute_reply": "2025-06-04T01:02:49.938575Z",
     "shell.execute_reply.started": "2025-06-04T01:02:49.839404Z"
    }
   },
   "outputs": [],
   "source": [
    "test_pred = rfModel.predict(X=X_test_all)"
   ]
  },
  {
   "cell_type": "code",
   "execution_count": 23,
   "metadata": {
    "execution": {
     "iopub.execute_input": "2025-06-04T01:02:49.940202Z",
     "iopub.status.busy": "2025-06-04T01:02:49.939945Z",
     "iopub.status.idle": "2025-06-04T01:02:49.975595Z",
     "shell.execute_reply": "2025-06-04T01:02:49.974651Z",
     "shell.execute_reply.started": "2025-06-04T01:02:49.940183Z"
    }
   },
   "outputs": [],
   "source": [
    "submission3 = pd.read_csv('/kaggle/input/bike-sharing-demand/sampleSubmission.csv')\n",
    "datetimecol = test_df_raw[\"datetime\"]\n",
    "submission3 = pd.DataFrame({\n",
    "        \"datetime\": datetimecol,\n",
    "        \"count\": [max(0, x) for x in np.exp(test_pred)]\n",
    "    })\n",
    "submission3.to_csv('bikeseparate_rf.csv', index=False)"
   ]
  },
  {
   "cell_type": "markdown",
   "metadata": {},
   "source": [
    "Random forest gace the best result as a public socre 0.39. GRU wasn't the best. However I haven't utilized grid search for the best hyperparameters"
   ]
  },
  {
   "cell_type": "code",
   "execution_count": null,
   "metadata": {},
   "outputs": [],
   "source": []
  }
 ],
 "metadata": {
  "kaggle": {
   "accelerator": "gpu",
   "dataSources": [
    {
     "databundleVersionId": 32624,
     "isSourceIdPinned": false,
     "sourceId": 3948,
     "sourceType": "competition"
    }
   ],
   "dockerImageVersionId": 30918,
   "isGpuEnabled": true,
   "isInternetEnabled": true,
   "language": "python",
   "sourceType": "notebook"
  },
  "kernelspec": {
   "display_name": "Python 3 (ipykernel)",
   "language": "python",
   "name": "python3"
  },
  "language_info": {
   "codemirror_mode": {
    "name": "ipython",
    "version": 3
   },
   "file_extension": ".py",
   "mimetype": "text/x-python",
   "name": "python",
   "nbconvert_exporter": "python",
   "pygments_lexer": "ipython3",
   "version": "3.11.5"
  }
 },
 "nbformat": 4,
 "nbformat_minor": 4
}
